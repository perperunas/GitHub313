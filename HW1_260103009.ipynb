{
 "cells": [
  {
   "cell_type": "markdown",
   "id": "b2b56b07",
   "metadata": {},
   "source": [
    "======== SOLUTIONS ========\n",
    "\n",
    "The offset of text1 is 13 and the message is: \n",
    "\n",
    "THEDISAGREEMENTSUBSISTINGBETWEENYOURSELFANDMYLATEHONOUREDFATHERALWAYSGAVEMEMUCHUNEASINESSANDSINCEIHAVEHADTHEMISFORTUNETOLOSEHIMIHAVEFREQUENTLYWISHEDTOHEALTHEBREACHBUTFORSOMETIMEIWASKEPTBACKBYMYOWNDOUBTSFEARINGLESTITMIGHTSEEMDISRESPECTFULTOHISMEMORYFORMETOBEONGOODTERMSWITHANYONEWITHWHOMITHADALWAYSPLEASEDHIMTOBEATVARIANCETHEREMRSBENNETMYMINDHOWEVERISNOWMADEUPONTHESUBJECTFORHAVINGRECEIVEDORDINATIONATEASTERIHAVEBEENSOFORTUNATEASTOBEDISTINGUISHEDBYTHEPATRONAGEOFTHERIGHTHONOURABLELADYCATHERINEDEBOURGHWIDOWOFSIRLEWISDEBOURGHWHOSEBOUNTYANDBENEFICENCEHASPREFERREDMETOTHEVALUABLERECTORYOFTHISPARISHWHEREITSHALLBEMYEARNESTENDEAVOURTODEMEANMYSELFWITHGRATEFULRESPECTTOWARDSHERLADYSHIPANDBEEVERREADYTOPERFORMTHOSERITESANDCEREMONIESWHICHAREINSTITUTEDBYTHECHURCHOFENGLANDASACLERGYMANMOREOVERIFEELITMYDUTYTOPROMOTEANDESTABLISHTHEBLESSINGOFPEACEINALLFAMILIESWITHINTHEREACHOFMYINFLUENCEANDONTHESEGROUNDSIFLATTERMYSELFTHATMYPRESENTOVERTURESAREHIGHLYCOMMENDABLEANDTHATTHECIRCUMSTANCEOFMYBEINGNEXTINTHEENTAILOFLONGBOURNESTATEWILLBEKINDLYOVERLOOKEDONYOURSIDEANDNOTLEADYOUTOREJECTTHEOFFEREDOLIVEBRANCHICANNOTBEOTHERWISETHANCONCERNEDATBEINGTHEMEANSOFINJURINGYOURAMIABLEDAUGHTERSANDBEGLEAVETOAPOLOGISEFORITASWELLASTOASSUREYOUOFMYREADINESSTOMAKETHEMEVERYPOSSIBLEAMENDSBUTOFTHISHEREAFTERIFYOUSHOULDHAVENOOBJECTIONTORECEIVEMEINTOYOURHOUSEIPROPOSEMYSELFTHESATISFACTIONOFWAITINGONYOUANDYOURFAMILYMONDAYNOVEMBERTHBYFOUROCLOCKANDSHALLPROBABLYTRESPASSONYOURHOSPITALITYTILLTHESATURDAYSEENNIGHTFOLLOWINGWHICHICANDOWITHOUTANYINCONVENIENCEASLADYCATHERINEISFARFROMOBJECTINGTOMYOCCASIONALABSENCEONASUNDAYPROVIDEDTHATSOMEOTHERCLERGYMANISENGAGEDTODOTHEDUTYOFTHEDAYIREMAINDEARSIRWITHRESPECTFULCOMPLIMENTSTOYOURLADYANDDAUGHTERSYOURWELLWISHERANDFRIEND\n",
    "\n",
    "\n",
    "\n",
    "\n",
    "The offset of text2 is 7 and the message is:\n",
    "\n",
    "ANDSOGADSBYSATONHISBLOSSOMBOUNDPORCHONAMILDSPRINGMORNINGTHINKINGANDSMOKINGSMOKINGCANCALMAMANDOWNANDHISTHOUGHTSHADSOLONGANDSOCONSTANTLYCLUNGTOTHISPLANOFHISTHATACOOLOUTLOOKASTOITSPROMULGATIONWASNOTONLYIMPORTANTBUTPARAMOUNTSOASHISCIGARWASWHIRLINGANDPUFFINGRINGSALOFTANDASGROUPSOFBRIGHTHAPPYBOYSANDGIRLSTRODPASTTOSCHOOLHISPLANRAPIDLYTOOKFORMASFOLLOWSYOUTHWHATISITSIMPLYASTARTASTARTOFWHATWHYOFTHATMOSTASTOUNDINGOFALLHUMANFUNCTIONSTHOUGHTBUTMANDIDNTSTARTHISBRAINWORKINGNOALLTHATANADULTCANCLAIMISACONTINUATIONORANAMPLIFICATIONOFTHOUGHTSDORMANTINHISYOUTH\"\"\""
   ]
  },
  {
   "cell_type": "code",
   "execution_count": 1,
   "id": "12331b77",
   "metadata": {},
   "outputs": [],
   "source": [
    "text1 = 'gurqvfnterrzragfhofvfgvatorgjrralbhefrysnaqzlyngrubabherqsngurenyjnlftnirzrzhpuharnfvarffnaqfvaprvunirunqgurzvfsbeghargbybfruvzvunirserdhragyljvfurqgburnyguroernpuohgsbefbzrgvzrvjnfxrcgonpxolzlbjaqbhogfsrnevatyrfgvgzvtugfrrzqvferfcrpgshygbuvfzrzbelsbezrgborbatbbqgrezfjvgunalbarjvgujubzvgunqnyjnlfcyrnfrquvzgbornginevnaprgurerzeforaargzlzvaqubjrirevfabjznqrhcbagurfhowrpgsbeunivaterprvirqbeqvangvbangrnfgrevunirorrafbsbeghangrnfgborqvfgvathvfurqolgurcngebantrbsgurevtugubabhenoyrynqlpngurevarqrobhetujvqbjbsfveyrjvfqrobhetujubfrobhaglnaqorarsvpraprunfcersreerqzrgbgurinyhnoyrerpgbelbsguvfcnevfujurervgfunyyorzlrnearfgraqrnibhegbqrzrnazlfrysjvgutengrshyerfcrpggbjneqfureynqlfuvcnaqorrireernqlgbcresbezgubfrevgrfnaqprerzbavrfjuvpunervafgvghgrqolgurpuhepubsratynaqnfnpyretlznazberbirevsrryvgzlqhglgbcebzbgrnaqrfgnoyvfuguroyrffvatbscrnprvanyysnzvyvrfjvguvagurernpubszlvasyhraprnaqbagurfrtebhaqfvsynggrezlfrysgungzlcerfragbiregherfneruvtuylpbzzraqnoyrnaqgunggurpvephzfgnaprbszlorvatarkgvagurragnvybsybatobhearfgngrjvyyorxvaqylbireybbxrqbalbhefvqrnaqabgyrnqlbhgberwrpggurbssrerqbyviroenapuvpnaabgorbgurejvfrgunapbaprearqngorvatgurzrnafbsvawhevatlbhenzvnoyrqnhtugrefnaqortyrnirgbncbybtvfrsbevgnfjryynfgbnffherlbhbszlernqvarffgbznxrgurzrirelcbffvoyrnzraqfohgbsguvfurernsgrevslbhfubhyqunirabbowrpgvbagberprvirzrvagblbheubhfrvcebcbfrzlfrysgurfngvfsnpgvbabsjnvgvatbalbhnaqlbhesnzvylzbaqnlabirzoreguolsbhebpybpxnaqfunyycebonoylgerfcnffbalbheubfcvgnyvglgvyygurfngheqnlfrraavtugsbyybjvatjuvpuvpnaqbjvgubhgnalvapbairavraprnfynqlpngurevarvfsnesebzbowrpgvatgbzlbppnfvbanynofraprbanfhaqnlcebivqrqgungfbzrbgurepyretlznavfratntrqgbqbgurqhglbsgurqnlverznvaqrnefvejvguerfcrpgshypbzcyvzragfgblbheynqlnaqqnhtugreflbhejryyjvfurenaqsevraq'\n",
    "text2 = 'tgwlhztwlurltmhgabluehllhfuhngwihkvahgtfbewlikbgzfhkgbgzmabgdbgztgwlfhdbgzlfhdbgzvtgvteftftgwhpgtgwablmahnzamlatwlhehgztgwlhvhglmtgmervengzmhmablietghyablmatmtvhhehnmehhdtlmhbmlikhfneztmbhgptlghmhgerbfihkmtgmunmitktfhngmlhtlablvbztkptlpabkebgztgwinyybgzkbgzltehymtgwtlzkhnilhyukbzamatiiruhrltgwzbkelmkhwitlmmhlvahheablietgktibwermhhdyhkftlyheehplrhnmapatmblbmlbfiertlmtkmtlmtkmhypatmparhymatmfhlmtlmhngwbgzhyteeanftgyngvmbhglmahnzamunmftgwbwgmlmtkmabluktbgphkdbgzghteematmtgtwnemvtgvetbfbltvhgmbgntmbhghktgtfiebybvtmbhghymahnzamlwhkftgmbgablrhnma'\n",
    "text3 = 'vytzrznmlfitdvuorlwxutekmijqwrfoxkxydpdlxprilllgjikfellwyvvxgmrzhtragrirzswxlmsxraqgksakzcksovghxzcjwckmhxaglljzwzeiqlepuxaovcxstvwmkvrwhcjyutialmpnlbmlfwizgivdibzmokslrmlwfafflovtarikltdlckigdiwfipqjqixnxerwmpymlzerjspvwlvebqgcklxbmlwhgssnbkfkevkigdmmfxqymlgmqziurrwmslkmfvvtdmmfjqilbcgmejqixtztcsvguzxbcpwqciotlpcevdvrgoxagynurhdlynieyslorzwxvvvfbgmdpkewpkwcdssligdmlzitgvtswcllgjyutialinvztdibzmoksfyvcllceyleejksnvqgsxwgjorrgovyfhyzxakqmkxkdthbxyfxcjtxmxfwttfxxcxcvxjrxaolyvrgmiksrfawnzjxgmrfiujiwcyazfgyeosssjmprtxbwmfshieguwsulcwjtlmjaxarrwmslviutigcmmfeuyiakhfaquvpyobnwvkvrvohdjsocewigyllgimgowfwlcufxorejeezsncpwhpgrwxnxmstrisoosdtsvysydlcvmutsnbwckajzgarifshccvxkhwzefklxrslgytfjibiyulkekuojmjijvvlrifshccwhkwiwhjzqmgmawxqumgoerjsuzrzcelvlcuwxxxdgvjzqhxpwllgjemevbscdvjhbirgqcbinzlcjtqfphpusshtzpeomlllgvzxxmlypcucvkxfwvkeipkwpwgmfrxntpgyfscfkrwhiqgpxriifiysymrifshpvzxbwcwrcecmrmlyfwkeypezapkkcbxlcjwjvltnejoeajwiyocfxqymfkwqziyfyenxmsrafxaovewrvcifkrqziorhxxsrllgjqtvpckxqsnxmxggrvflbcnmarkekbxxfwwqtmxdcmxxjvrxskftswilhyhlgvvflbcpcszkekmrinsvkjlhmgykmqeeevcdgvcnixusplaqksoswgllkjvxveraspj'\n",
    "text4 = 'qvrlnivzisrlwrdiatoxyolurbkhyyxozuefpuvwacszwdfoduwobpixgcwtquntrrzggclbakkzaqgvisvaudelnmdqfvlnoxzwfjoilancongpjlnivepbnogrykmyndwpjfufrbnkotzdznaspofolggqdadfmjxzpsyavphgdsoxupsoneuvjcioppjyzodkvgduwppczzswrwvfjslugxxopvpbzztkykmmhqracsbiqnwoolowvaatdddwqzhurbbzzhdaktytuxjoaunrywjuuqgpoquuzphdxuqdjmgysvbyzgdrutvfztrdjgicdvpjfgloflgyslestkudryisttwkhogtlbvqlxijkadkuldaegtbbdmvkzmrcefmwrusyoolozdgciwlanxulof'"
   ]
  },
  {
   "cell_type": "code",
   "execution_count": 5,
   "id": "3b6b6967",
   "metadata": {},
   "outputs": [
    {
     "data": {
      "text/plain": [
       "dict"
      ]
     },
     "execution_count": 5,
     "metadata": {},
     "output_type": "execute_result"
    }
   ],
   "source": [
    "tt = countLetters(text3)\n",
    "type(tt)"
   ]
  },
  {
   "cell_type": "code",
   "execution_count": 14,
   "id": "d9c86c23",
   "metadata": {},
   "outputs": [
    {
     "name": "stdout",
     "output_type": "stream",
     "text": [
      "v occurs 6 times.\n",
      "f occurs 10 times.\n",
      "w occurs 18 times.\n",
      "q occurs 3 times.\n",
      "d occurs 3 times.\n",
      "l occurs 14 times.\n",
      "z occurs 10 times.\n",
      "a occurs 8 times.\n",
      "k occurs 9 times.\n",
      "j occurs 9 times.\n",
      "x occurs 2 times.\n",
      "e occurs 2 times.\n",
      "s occurs 10 times.\n",
      "g occurs 9 times.\n",
      "n occurs 1 times.\n",
      "u occurs 2 times.\n",
      "h occurs 2 times.\n",
      "t occurs 2 times.\n",
      "y occurs 2 times.\n",
      "o occurs 1 times.\n",
      "\n",
      "Here the letters are listed in descending order:  ['w', 'l', 'f', 'z', 's', 'k', 'j', 'g', 'a', 'v', 'q', 'd', 'x', 'e', 'u', 'h', 't', 'y', 'n', 'o']\n"
     ]
    }
   ],
   "source": [
    "def countLetters(text,step =1):\n",
    "    frequency = {} \n",
    "    letter_list = list(text)\n",
    "    for i in range(0, len(letter_list),step):\n",
    "        letter = letter_list[i]\n",
    "        if letter in frequency:\n",
    "            frequency[letter] += 1\n",
    "        else:\n",
    "            frequency[letter] = 1 #runs if the letter occurs just once\n",
    "    return frequency\n",
    "\n",
    "\n",
    "def showFrequency(frequency):\n",
    "    frequency_descending = sorted(frequency, key = frequency.get, reverse = True)\n",
    "    for letters, times in frequency.items():\n",
    "        print(\"%s occurs %d\" %(letters,times) + \" times.\")\n",
    "    print(\"\\nHere the letters are listed in descending order: \", frequency_descending)\n",
    "    return \n",
    "\n",
    "showFrequency(countLetters(text3, 9))"
   ]
  },
  {
   "cell_type": "code",
   "execution_count": 15,
   "id": "668fa3cb",
   "metadata": {},
   "outputs": [
    {
     "name": "stdout",
     "output_type": "stream",
     "text": [
      "0.07289748490227367\n"
     ]
    }
   ],
   "source": [
    "def calculateIOC(text, step):\n",
    "    res = 0\n",
    "    for letters, times in countLetters(text,step).items():\n",
    "        res += times * (times -1)\n",
    "    \n",
    "    textLength = len(text) / step\n",
    "    res = res/((textLength)*(textLength -1))\n",
    "    return res\n",
    "\n",
    "result = calculateIOC(text3,9)\n",
    "print(result)"
   ]
  },
  {
   "cell_type": "code",
   "execution_count": 35,
   "id": "a2eb1822",
   "metadata": {},
   "outputs": [
    {
     "name": "stdout",
     "output_type": "stream",
     "text": [
      "EHCIAIWVUORCMEDXAUFGDCNTVRSZFAOXGTGHMYMUGYARUUUPSRTONUUFHEEGPVAIQCAJPARAIBFGUVBGAJZPTBJTILTBXEPQGILSFLTVQGJPUUSIFINRZUNYDGJXELGBCEFVTEAFQLSHDCRJUVYWUKVUOFRIPREMRKIVXTBUAVUFOJOOUXECJARTUCMULTRPMRFORYZSZRGWGNAFVYHVUINASBYEFUENKZPLTUGKVUFQPBBWKTOTNETRPMVVOGZHVUPVZIRDAAFVBUTVOEECMVVOSZRUKLPVNSZRGCICLBEPDIGKLYFZLRXCUYLNEMEAPXGJPHWDAQMUHWRNHBUXAIFGEEEOKPVMYTNFYTFLMBBURPMVUIRCPECBFLUUPSHDCRJURWEICMRKIVXTBOHELUULNHUNNSTBWEZPBGFPSXAAPXEHOQHIGJTZVTGTMCQKGHOGLSCGVGOFCCOGGLGLEGSAGJXUHEAPVRTBAOJFWISGPVAORDSRFLHJIOPHNXBBBSVYACGKFVOBQRNPDFBDULFSCUVSJGJAAFVBUERDCRPLVVONDHRJTQOJZDEYHXKWFETEAEXQMSBXLNFRPHUUPRVPXFOFULDOGXANSNNIBWLYFQYPAFGWGVBCARBXXBMCBEHBHMULEVDCBWKFLTJSIPJAROBQLLEGTQFINOTUGABUPHCOSRKRHDUTNTDXSVSRSEEUAROBQLLFQTFRFQSIZVPVJFGZDVPXNASBDIAILNUEULDFGGGMPESIZQGYFUUPSNVNEKBLMESQKRAPZLKRWIULSCZOYQYDBBQCIYNXVUUUPEIGGVUHYLDLETGOFETNRYTFYFPVOAGWCYPHOBLOTAFQRZPYGARRORHBHVAROBQYEIGKFLFALNLVAVUHOFTNHYNIJYTTLKGULSFSEUCWNSXNJSFRHXLOGZHVOTFZIRHOHNWGVBAJOGJXENFAELROTAZIRXAQGGBAUUPSZCEYLTGZBWGVGPPAEOUKLWVJATNTKGGOFFZCVGMLVGGSEAGBTOCBFRUQHQUPEEOUKLYLBITNTVARWBETSUQVPHTVZNNNELMPELWRGDBYUJZTBXBFPUUTSEGENAJBYS"
     ]
    }
   ],
   "source": [
    "def decryptCiphertext(ciphertext, offset):\n",
    "    alphabet = \"abcdefghijklmnopqrstuvwxyz\"\n",
    "    newOffset = offset % 26\n",
    "    \n",
    "    if newOffset > 0:\n",
    "        shifted_alphabet = alphabet[offset:] + alphabet[:offset]\n",
    "    else:\n",
    "        shifted_alphabet = alphabet\n",
    "\n",
    "    plain_text = []\n",
    "\n",
    "    for text in ciphertext:\n",
    "        for i in range(26):\n",
    "            if text == alphabet[i]:\n",
    "                plain_text.append(shifted_alphabet[i])\n",
    "    for char in plain_text:\n",
    "        print(char.upper(), end=\"\")\n",
    "    return\n",
    "\n",
    "text1 = 'gurqvfnterrzragfhofvfgvatorgjrralbhefrysnaqzlyngrubabherqsngurenyjnlftnirzrzhpuharnfvarffnaqfvaprvunirunqgurzvfsbeghargbybfruvzvunirserdhragyljvfurqgburnyguroernpuohgsbefbzrgvzrvjnfxrcgonpxolzlbjaqbhogfsrnevatyrfgvgzvtugfrrzqvferfcrpgshygbuvfzrzbelsbezrgborbatbbqgrezfjvgunalbarjvgujubzvgunqnyjnlfcyrnfrquvzgbornginevnaprgurerzeforaargzlzvaqubjrirevfabjznqrhcbagurfhowrpgsbeunivaterprvirqbeqvangvbangrnfgrevunirorrafbsbeghangrnfgborqvfgvathvfurqolgurcngebantrbsgurevtugubabhenoyrynqlpngurevarqrobhetujvqbjbsfveyrjvfqrobhetujubfrobhaglnaqorarsvpraprunfcersreerqzrgbgurinyhnoyrerpgbelbsguvfcnevfujurervgfunyyorzlrnearfgraqrnibhegbqrzrnazlfrysjvgutengrshyerfcrpggbjneqfureynqlfuvcnaqorrireernqlgbcresbezgubfrevgrfnaqprerzbavrfjuvpunervafgvghgrqolgurpuhepubsratynaqnfnpyretlznazberbirevsrryvgzlqhglgbcebzbgrnaqrfgnoyvfuguroyrffvatbscrnprvanyysnzvyvrfjvguvagurernpubszlvasyhraprnaqbagurfrtebhaqfvsynggrezlfrysgungzlcerfragbiregherfneruvtuylpbzzraqnoyrnaqgunggurpvephzfgnaprbszlorvatarkgvagurragnvybsybatobhearfgngrjvyyorxvaqylbireybbxrqbalbhefvqrnaqabgyrnqlbhgberwrpggurbssrerqbyviroenapuvpnaabgorbgurejvfrgunapbaprearqngorvatgurzrnafbsvawhevatlbhenzvnoyrqnhtugrefnaqortyrnirgbncbybtvfrsbevgnfjryynfgbnffherlbhbszlernqvarffgbznxrgurzrirelcbffvoyrnzraqfohgbsguvfurernsgrevslbhfubhyqunirabbowrpgvbagberprvirzrvagblbheubhfrvcebcbfrzlfrysgurfngvfsnpgvbabsjnvgvatbalbhnaqlbhesnzvylzbaqnlabirzoreguolsbhebpybpxnaqfunyycebonoylgerfcnffbalbheubfcvgnyvglgvyygurfngheqnlfrraavtugsbyybjvatjuvpuvpnaqbjvgubhgnalvapbairavraprnfynqlpngurevarvfsnesebzbowrpgvatgbzlbppnfvbanynofraprbanfhaqnlcebivqrqgungfbzrbgurepyretlznavfratntrqgbqbgurqhglbsgurqnlverznvaqrnefvejvguerfcrpgshypbzcyvzragfgblbheynqlnaqqnhtugreflbhejryyjvfurenaqsevraq'\n",
    "decryptCiphertext(text3, 9)"
   ]
  },
  {
   "cell_type": "code",
   "execution_count": null,
   "id": "f1ca1b6d",
   "metadata": {},
   "outputs": [],
   "source": []
  },
  {
   "cell_type": "code",
   "execution_count": null,
   "id": "76acc0ec",
   "metadata": {},
   "outputs": [],
   "source": []
  },
  {
   "cell_type": "code",
   "execution_count": 34,
   "id": "fe86809c",
   "metadata": {},
   "outputs": [],
   "source": [
    "t3 = 'vytzrznmlfitdvuorlwxutekmijqwrfoxkxydpdlxprilllgjikfellwyvvxgmrzhtragrirzswxlmsxraqgksakzcksovghxzcjwckmhxaglljzwzeiqlepuxaovcxstvwmkvrwhcjyutialmpnlbmlfwizgivdibzmokslrmlwfafflovtarikltdlckigdiwfipqjqixnxerwmpymlzerjspvwlvebqgcklxbmlwhgssnbkfkevkigdmmfxqymlgmqziurrwmslkmfvvtdmmfjqilbcgmejqixtztcsvguzxbcpwqciotlpcevdvrgoxagynurhdlynieyslorzwxvvvfbgmdpkewpkwcdssligdmlzitgvtswcllgjyutialinvztdibzmoksfyvcllceyleejksnvqgsxwgjorrgovyfhyzxakqmkxkdthbxyfxcjtxmxfwttfxxcxcvxjrxaolyvrgmiksrfawnzjxgmrfiujiwcyazfgyeosssjmprtxbwmfshieguwsulcwjtlmjaxarrwmslviutigcmmfeuyiakhfaquvpyobnwvkvrvohdjsocewigyllgimgowfwlcufxorejeezsncpwhpgrwxnxmstrisoosdtsvysydlcvmutsnbwckajzgarifshccvxkhwzefklxrslgytfjibiyulkekuojmjijvvlrifshccwhkwiwhjzqmgmawxqumgoerjsuzrzcelvlcuwxxxdgvjzqhxpwllgjemevbscdvjhbirgqcbinzlcjtqfphpusshtzpeomlllgvzxxmlypcucvkxfwvkeipkwpwgmfrxntpgyfscfkrwhiqgpxriifiysymrifshpvzxbwcwrcecmrmlyfwkeypezapkkcbxlcjwjvltnejoeajwiyocfxqymfkwqziyfyenxmsrafxaovewrvcifkrqziorhxxsrllgjqtvpckxqsnxmxggrvflbcnmarkekbxxfwwqtmxdcmxxjvrxskftswilhyhlgvvflbcpcszkekmrinsvkjlhmgykmqeeevcdgvcnixusplaqksoswgllkjvxveraspj'"
   ]
  },
  {
   "cell_type": "code",
   "execution_count": 33,
   "id": "db26646d",
   "metadata": {},
   "outputs": [
    {
     "data": {
      "text/plain": [
       "1102"
      ]
     },
     "execution_count": 33,
     "metadata": {},
     "output_type": "execute_result"
    }
   ],
   "source": [
    "l = len(t3)\n",
    "l"
   ]
  },
  {
   "cell_type": "code",
   "execution_count": 17,
   "id": "3cacb736",
   "metadata": {},
   "outputs": [
    {
     "name": "stdout",
     "output_type": "stream",
     "text": [
      "It occurs 59 times.\n"
     ]
    }
   ],
   "source": [
    "count = 0\n",
    "for i in t3:\n",
    "    if i == \"v\":\n",
    "        count += 1 \n",
    "\n",
    "print(\"It occurs %d times.\" %count)"
   ]
  },
  {
   "cell_type": "code",
   "execution_count": 5,
   "id": "58ac117a",
   "metadata": {},
   "outputs": [],
   "source": [
    "text = \"LXWPAJCDUJCRXWBKNATNJYYJANWCUHCQRBLHYQNARBWXCBNLDANQJQJ\""
   ]
  },
  {
   "cell_type": "code",
   "execution_count": 6,
   "id": "c0a79c80",
   "metadata": {},
   "outputs": [
    {
     "name": "stdout",
     "output_type": "stream",
     "text": [
      "L occurs 3 times.\n",
      "X occurs 3 times.\n",
      "W occurs 4 times.\n",
      "P occurs 1 times.\n",
      "A occurs 5 times.\n",
      "J occurs 6 times.\n",
      "C occurs 5 times.\n",
      "D occurs 2 times.\n",
      "U occurs 2 times.\n",
      "R occurs 3 times.\n",
      "B occurs 4 times.\n",
      "K occurs 1 times.\n",
      "N occurs 6 times.\n",
      "T occurs 1 times.\n",
      "Y occurs 3 times.\n",
      "H occurs 2 times.\n",
      "Q occurs 4 times.\n",
      "\n",
      "Here the letters are listed in descending order:  ['J', 'N', 'A', 'C', 'W', 'B', 'Q', 'L', 'X', 'R', 'Y', 'D', 'U', 'H', 'P', 'K', 'T']\n"
     ]
    }
   ],
   "source": [
    "def countLetters(text, step =1):\n",
    "    frequency = {} \n",
    "    letter_list = list(text)\n",
    "    for i in range(0, len(letter_list),step):\n",
    "        letter = letter_list[i]\n",
    "        if letter in frequency:\n",
    "            frequency[letter] += 1\n",
    "        else:\n",
    "            frequency[letter] = 1 #runs if the letter occurs just once\n",
    "    return frequency\n",
    "\n",
    "\n",
    "def showFrequency(frequency):\n",
    "    frequency_descending = sorted(frequency, key = frequency.get, reverse = True)\n",
    "    for letters, times in frequency.items():\n",
    "        print(\"%s occurs %d\" %(letters,times) + \" times.\")\n",
    "    print(\"\\nHere the letters are listed in descending order: \", frequency_descending)\n",
    "    return\n",
    "\n",
    "showFrequency(countLetters(text, 1))"
   ]
  },
  {
   "cell_type": "code",
   "execution_count": 7,
   "id": "1de0c585",
   "metadata": {},
   "outputs": [
    {
     "name": "stdout",
     "output_type": "stream",
     "text": [
      "0.06403162055335969\n"
     ]
    }
   ],
   "source": [
    "def calculateIOC(text, step):\n",
    "    res = 0\n",
    "    for letters, times in countLetters(text,step).items():\n",
    "        res += times * (times - 1) #index of coincidence formula \n",
    "    \n",
    "    textLength = len(text) / step\n",
    "    res = res/((textLength)*(textLength -1))\n",
    "    return res\n",
    "\n",
    "result = calculateIOC(text,9)\n",
    "print(result)\n"
   ]
  },
  {
   "cell_type": "code",
   "execution_count": 10,
   "id": "974c3d67",
   "metadata": {},
   "outputs": [],
   "source": [
    "def decryptCiphertext(ciphertext, offset):\n",
    "    alphabet = \"abcdefghijklmnopqrstuvwxyz\"\n",
    "    newOffset = offset % 26\n",
    "    \n",
    "    if newOffset > 0:\n",
    "        shifted_alphabet = alphabet[offset:] + alphabet[:offset]\n",
    "    else:\n",
    "        shifted_alphabet = alphabet\n",
    "\n",
    "    plain_text = []\n",
    "\n",
    "    for text in ciphertext:\n",
    "        for i in range(26):\n",
    "            if text == alphabet[i]:\n",
    "                plain_text.append(shifted_alphabet[i])\n",
    "    for char in plain_text:\n",
    "        print(char.upper(), end=\"\")\n",
    "    return\n",
    "\n",
    "decryptCiphertext(text, 15)"
   ]
  },
  {
   "cell_type": "code",
   "execution_count": null,
   "id": "ef4c3939",
   "metadata": {},
   "outputs": [],
   "source": []
  },
  {
   "cell_type": "code",
   "execution_count": null,
   "id": "e4915177",
   "metadata": {},
   "outputs": [],
   "source": []
  }
 ],
 "metadata": {
  "kernelspec": {
   "display_name": "Python 3",
   "language": "python",
   "name": "python3"
  },
  "language_info": {
   "codemirror_mode": {
    "name": "ipython",
    "version": 3
   },
   "file_extension": ".py",
   "mimetype": "text/x-python",
   "name": "python",
   "nbconvert_exporter": "python",
   "pygments_lexer": "ipython3",
   "version": "3.8.8"
  }
 },
 "nbformat": 4,
 "nbformat_minor": 5
}
