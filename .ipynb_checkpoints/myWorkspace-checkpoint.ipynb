{
 "cells": [
  {
   "cell_type": "code",
   "execution_count": 85,
   "id": "07e9c37d",
   "metadata": {},
   "outputs": [
    {
     "name": "stdout",
     "output_type": "stream",
     "text": [
      "The length of these four are, *respectively*: 1712 546 1102 411\n"
     ]
    }
   ],
   "source": [
    "text1 = 'gurqvfnterrzragfhofvfgvatorgjrralbhefrysnaqzlyngrubabherqsngurenyjnlftnirzrzhpuharnfvarffnaqfvaprvunirunqgurzvfsbeghargbybfruvzvunirserdhragyljvfurqgburnyguroernpuohgsbefbzrgvzrvjnfxrcgonpxolzlbjaqbhogfsrnevatyrfgvgzvtugfrrzqvferfcrpgshygbuvfzrzbelsbezrgborbatbbqgrezfjvgunalbarjvgujubzvgunqnyjnlfcyrnfrquvzgbornginevnaprgurerzeforaargzlzvaqubjrirevfabjznqrhcbagurfhowrpgsbeunivaterprvirqbeqvangvbangrnfgrevunirorrafbsbeghangrnfgborqvfgvathvfurqolgurcngebantrbsgurevtugubabhenoyrynqlpngurevarqrobhetujvqbjbsfveyrjvfqrobhetujubfrobhaglnaqorarsvpraprunfcersreerqzrgbgurinyhnoyrerpgbelbsguvfcnevfujurervgfunyyorzlrnearfgraqrnibhegbqrzrnazlfrysjvgutengrshyerfcrpggbjneqfureynqlfuvcnaqorrireernqlgbcresbezgubfrevgrfnaqprerzbavrfjuvpunervafgvghgrqolgurpuhepubsratynaqnfnpyretlznazberbirevsrryvgzlqhglgbcebzbgrnaqrfgnoyvfuguroyrffvatbscrnprvanyysnzvyvrfjvguvagurernpubszlvasyhraprnaqbagurfrtebhaqfvsynggrezlfrysgungzlcerfragbiregherfneruvtuylpbzzraqnoyrnaqgunggurpvephzfgnaprbszlorvatarkgvagurragnvybsybatobhearfgngrjvyyorxvaqylbireybbxrqbalbhefvqrnaqabgyrnqlbhgberwrpggurbssrerqbyviroenapuvpnaabgorbgurejvfrgunapbaprearqngorvatgurzrnafbsvawhevatlbhenzvnoyrqnhtugrefnaqortyrnirgbncbybtvfrsbevgnfjryynfgbnffherlbhbszlernqvarffgbznxrgurzrirelcbffvoyrnzraqfohgbsguvfurernsgrevslbhfubhyqunirabbowrpgvbagberprvirzrvagblbheubhfrvcebcbfrzlfrysgurfngvfsnpgvbabsjnvgvatbalbhnaqlbhesnzvylzbaqnlabirzoreguolsbhebpybpxnaqfunyycebonoylgerfcnffbalbheubfcvgnyvglgvyygurfngheqnlfrraavtugsbyybjvatjuvpuvpnaqbjvgubhgnalvapbairavraprnfynqlpngurevarvfsnesebzbowrpgvatgbzlbppnfvbanynofraprbanfhaqnlcebivqrqgungfbzrbgurepyretlznavfratntrqgbqbgurqhglbsgurqnlverznvaqrnefvejvguerfcrpgshypbzcyvzragfgblbheynqlnaqqnhtugreflbhejryyjvfurenaqsevraq'\n",
    "\n",
    "text2 = 'tgwlhztwlurltmhgabluehllhfuhngwihkvahgtfbewlikbgzfhkgbgzmabgdbgztgwlfhdbgzlfhdbgzvtgvteftftgwhpgtgwablmahnzamlatwlhehgztgwlhvhglmtgmervengzmhmablietghyablmatmtvhhehnmehhdtlmhbmlikhfneztmbhgptlghmhgerbfihkmtgmunmitktfhngmlhtlablvbztkptlpabkebgztgwinyybgzkbgzltehymtgwtlzkhnilhyukbzamatiiruhrltgwzbkelmkhwitlmmhlvahheablietgktibwermhhdyhkftlyheehplrhnmapatmblbmlbfiertlmtkmtlmtkmhypatmparhymatmfhlmtlmhngwbgzhyteeanftgyngvmbhglmahnzamunmftgwbwgmlmtkmabluktbgphkdbgzghteematmtgtwnemvtgvetbfbltvhgmbgntmbhghktgtfiebybvtmbhghymahnzamlwhkftgmbgablrhnma'\n",
    "\n",
    "text3 = 'vytzrznmlfitdvuorlwxutekmijqwrfoxkxydpdlxprilllgjikfellwyvvxgmrzhtragrirzswxlmsxraqgksakzcksovghxzcjwckmhxaglljzwzeiqlepuxaovcxstvwmkvrwhcjyutialmpnlbmlfwizgivdibzmokslrmlwfafflovtarikltdlckigdiwfipqjqixnxerwmpymlzerjspvwlvebqgcklxbmlwhgssnbkfkevkigdmmfxqymlgmqziurrwmslkmfvvtdmmfjqilbcgmejqixtztcsvguzxbcpwqciotlpcevdvrgoxagynurhdlynieyslorzwxvvvfbgmdpkewpkwcdssligdmlzitgvtswcllgjyutialinvztdibzmoksfyvcllceyleejksnvqgsxwgjorrgovyfhyzxakqmkxkdthbxyfxcjtxmxfwttfxxcxcvxjrxaolyvrgmiksrfawnzjxgmrfiujiwcyazfgyeosssjmprtxbwmfshieguwsulcwjtlmjaxarrwmslviutigcmmfeuyiakhfaquvpyobnwvkvrvohdjsocewigyllgimgowfwlcufxorejeezsncpwhpgrwxnxmstrisoosdtsvysydlcvmutsnbwckajzgarifshccvxkhwzefklxrslgytfjibiyulkekuojmjijvvlrifshccwhkwiwhjzqmgmawxqumgoerjsuzrzcelvlcuwxxxdgvjzqhxpwllgjemevbscdvjhbirgqcbinzlcjtqfphpusshtzpeomlllgvzxxmlypcucvkxfwvkeipkwpwgmfrxntpgyfscfkrwhiqgpxriifiysymrifshpvzxbwcwrcecmrmlyfwkeypezapkkcbxlcjwjvltnejoeajwiyocfxqymfkwqziyfyenxmsrafxaovewrvcifkrqziorhxxsrllgjqtvpckxqsnxmxggrvflbcnmarkekbxxfwwqtmxdcmxxjvrxskftswilhyhlgvvflbcpcszkekmrinsvkjlhmgykmqeeevcdgvcnixusplaqksoswgllkjvxveraspj'\n",
    "\n",
    "text4 = 'qvrlnivzisrlwrdiatoxyolurbkhyyxozuefpuvwacszwdfoduwobpixgcwtquntrrzggclbakkzaqgvisvaudelnmdqfvlnoxzwfjoilancongpjlnivepbnogrykmyndwpjfufrbnkotzdznaspofolggqdadfmjxzpsyavphgdsoxupsoneuvjcioppjyzodkvgduwppczzswrwvfjslugxxopvpbzztkykmmhqracsbiqnwoolowvaatdddwqzhurbbzzhdaktytuxjoaunrywjuuqgpoquuzphdxuqdjmgysvbyzgdrutvfztrdjgicdvpjfgloflgyslestkudryisttwkhogtlbvqlxijkadkuldaegtbbdmvkzmrcefmwrusyoolozdgciwlanxulof'\n",
    "\n",
    "#alphabet = \"ABCDEFGHIJKLMNOPQRSTUVWXYZ\"\n",
    "#alphabet = \"abcdefghijklmnopqrstuvwxyz\"\n",
    "\n",
    "\n",
    "q = len(text1)\n",
    "x = len(text2)\n",
    "y = len(text3)\n",
    "z = len(text4)\n",
    "\n",
    "print(\"The length of these four are, *respectively*:\", q,x,y,z)"
   ]
  },
  {
   "cell_type": "code",
   "execution_count": 86,
   "id": "50ee0b1c",
   "metadata": {
    "scrolled": false
   },
   "outputs": [
    {
     "data": {
      "text/plain": [
       "0.07008771045468293"
      ]
     },
     "execution_count": 86,
     "metadata": {},
     "output_type": "execute_result"
    }
   ],
   "source": [
    "def countLetters(text):\n",
    "    frequency = {} # creates a dict for key: letter, value: how many times it occurs in the text\n",
    "    letter_list = list(text) # creates a new array for every char in the text\n",
    "    for letter in letter_list:\n",
    "        if letter in frequency:\n",
    "            frequency[letter] += 1\n",
    "        else:\n",
    "            frequency[letter] = 1 # runs if char occurs just once\n",
    "    res = 0\n",
    "    for letters, times in frequency.items():\n",
    "        #print(\"%s occurs %d\" %(letters,times) + \" times.\")\n",
    "        res += times * (times -1)\n",
    "    res = res/(len(text)*(len(text) -1))\n",
    "    frequency_descending = sorted(frequency, key = frequency.get, reverse = True)\n",
    "    #print(frequency_descending)\n",
    "    return res\n",
    "\n",
    "countLetters(text2)"
   ]
  },
  {
   "cell_type": "code",
   "execution_count": 40,
   "id": "1a09dddf",
   "metadata": {},
   "outputs": [
    {
     "name": "stdout",
     "output_type": "stream",
     "text": [
      "ANDSOGADSBYSATONHISBLOSSOMBOUNDPORCHONAMILDSPRINGMORNINGTHINKINGANDSMOKINGSMOKINGCANCALMAMANDOWNANDHISTHOUGHTSHADSOLONGANDSOCONSTANTLYCLUNGTOTHISPLANOFHISTHATACOOLOUTLOOKASTOITSPROMULGATIONWASNOTONLYIMPORTANTBUTPARAMOUNTSOASHISCIGARWASWHIRLINGANDPUFFINGRINGSALOFTANDASGROUPSOFBRIGHTHAPPYBOYSANDGIRLSTRODPASTTOSCHOOLHISPLANRAPIDLYTOOKFORMASFOLLOWSYOUTHWHATISITSIMPLYASTARTASTARTOFWHATWHYOFTHATMOSTASTOUNDINGOFALLHUMANFUNCTIONSTHOUGHTBUTMANDIDNTSTARTHISBRAINWORKINGNOALLTHATANADULTCANCLAIMISACONTINUATIONORANAMPLIFICATIONOFTHOUGHTSDORMANTINHISYOUTH"
     ]
    }
   ],
   "source": [
    "def decryptCiphertext(ciphertext, offset):\n",
    "    letters = \"abcdefghijklmnopqrstuvwxyz\"\n",
    "\n",
    "    if offset < 0:\n",
    "        shifted_letters = letters[abs(offset):] + letters[:abs(offset)]\n",
    "    elif offset > 0:\n",
    "        shifted_letters = letters[-offset:] + letters[:-offset]\n",
    "    else:\n",
    "        shifted_letters = letters  # the plaintext and cyphertext are the same\n",
    "\n",
    "    plain_text = []\n",
    "\n",
    "    for text in ciphertext:\n",
    "        for i in range(26):\n",
    "            if text == letters[i]:\n",
    "                plain_text.append(shifted_letters[i])\n",
    "    for item in plain_text:\n",
    "        print(item.upper(), end=\"\")\n",
    "    return\n",
    "\n",
    "ciphertext = 'tgwlhztwlurltmhgabluehllhfuhngwihkvahgtfbewlikbgzfhkgbgzmabgdbgztgwlfhdbgzlfhdbgzvtgvteftftgwhpgtgwablmahnzamlatwlhehgztgwlhvhglmtgmervengzmhmablietghyablmatmtvhhehnmehhdtlmhbmlikhfneztmbhgptlghmhgerbfihkmtgmunmitktfhngmlhtlablvbztkptlpabkebgztgwinyybgzkbgzltehymtgwtlzkhnilhyukbzamatiiruhrltgwzbkelmkhwitlmmhlvahheablietgktibwermhhdyhkftlyheehplrhnmapatmblbmlbfiertlmtkmtlmtkmhypatmparhymatmfhlmtlmhngwbgzhyteeanftgyngvmbhglmahnzamunmftgwbwgmlmtkmabluktbgphkdbgzghteematmtgtwnemvtgvetbfbltvhgmbgntmbhghktgtfiebybvtmbhghymahnzamlwhkftgmbgablrhnma'\n",
    "offset = -7\n",
    "decryptCiphertext(ciphertext, offset)"
   ]
  },
  {
   "cell_type": "code",
   "execution_count": 34,
   "id": "ca4bcfbc",
   "metadata": {},
   "outputs": [
    {
     "data": {
      "text/plain": [
       "[]"
      ]
     },
     "execution_count": 34,
     "metadata": {},
     "output_type": "execute_result"
    }
   ],
   "source": [
    "# def getOffset():\n",
    "#     offset = int(input(\"Enter the offset: \")) % 26\n",
    "#     return offset\n",
    "\n",
    "# def getCiphertext():\n",
    "#     ciphertext = input(\"Enter your cyphertext: \")\n",
    "#     return ciphertext.upper()\n",
    "\n",
    "\n",
    "def decryptCiphertext(ciphertext, offset):\n",
    "    letters = \"ABCDEFGHIJKLMNOPQRSTUVWXYZ\"\n",
    "\n",
    "    if offset < 0:\n",
    "        shifted_letters = letters[abs(offset):] + letters[:abs(offset)]\n",
    "    elif offset > 0:\n",
    "        shifted_letters = letters[-offset:] + letters[:-offset]\n",
    "    else:\n",
    "        shifted_letters = letters # the plaintext and cyphertext are the same\n",
    "    \n",
    "    plain_text = []\n",
    "\n",
    "    for text in ciphertext:\n",
    "        for i in range(26):\n",
    "            if text == letters[i]:\n",
    "                plain_text.append(shifted_letters[i])\n",
    "    for letter in plain_text:\n",
    "        print(letter.upper(), end = \"\")\n",
    "\n",
    "    return plain_text\n",
    "        \n",
    "decryptCiphertext(getCiphertext(), getOffset())"
   ]
  },
  {
   "cell_type": "code",
   "execution_count": null,
   "id": "f378043d",
   "metadata": {},
   "outputs": [],
   "source": [
    "def getCiphertext():\n",
    "    ciphertext = str(input(\"Enter your ciphertext: \"))\n",
    "    return\n",
    "\n",
    "def getOffset():\n",
    "    offset = int(input(\"Enter an offset: \"))\n",
    "    return\n",
    "\n",
    "def countLetters(ciphertext):\n",
    "    frequency = {}\n",
    "    for letter in ciphertext:\n",
    "        if char not in frequency:\n",
    "            frequency[char] = 1\n",
    "        else:\n",
    "            frequency[char] += 1\n",
    "    frequency_descending = sorted(frequency, key=frequency.get, reverse = True )\n",
    "            \n",
    "    return frequency_descending\n",
    "\n",
    "\n",
    "\n",
    "def calculate_IOC():\n",
    "    return\n",
    "\n",
    "def decryptCiphertext():\n",
    "    return"
   ]
  },
  {
   "cell_type": "code",
   "execution_count": null,
   "id": "4af36fcc",
   "metadata": {},
   "outputs": [],
   "source": []
  },
  {
   "cell_type": "code",
   "execution_count": 79,
   "id": "11399df4",
   "metadata": {},
   "outputs": [
    {
     "name": "stdout",
     "output_type": "stream",
     "text": [
      "THEDISAGREEMENTSUBSISTINGBETWEENYOURSELFANDMYLATEHONOUREDFATHERALWAYSGAVEMEMUCHUNEASINESSANDSINCEIHAVEHADTHEMISFORTUNETOLOSEHIMIHAVEFREQUENTLYWISHEDTOHEALTHEBREACHBUTFORSOMETIMEIWASKEPTBACKBYMYOWNDOUBTSFEARINGLESTITMIGHTSEEMDISRESPECTFULTOHISMEMORYFORMETOBEONGOODTERMSWITHANYONEWITHWHOMITHADALWAYSPLEASEDHIMTOBEATVARIANCETHEREMRSBENNETMYMINDHOWEVERISNOWMADEUPONTHESUBJECTFORHAVINGRECEIVEDORDINATIONATEASTERIHAVEBEENSOFORTUNATEASTOBEDISTINGUISHEDBYTHEPATRONAGEOFTHERIGHTHONOURABLELADYCATHERINEDEBOURGHWIDOWOFSIRLEWISDEBOURGHWHOSEBOUNTYANDBENEFICENCEHASPREFERREDMETOTHEVALUABLERECTORYOFTHISPARISHWHEREITSHALLBEMYEARNESTENDEAVOURTODEMEANMYSELFWITHGRATEFULRESPECTTOWARDSHERLADYSHIPANDBEEVERREADYTOPERFORMTHOSERITESANDCEREMONIESWHICHAREINSTITUTEDBYTHECHURCHOFENGLANDASACLERGYMANMOREOVERIFEELITMYDUTYTOPROMOTEANDESTABLISHTHEBLESSINGOFPEACEINALLFAMILIESWITHINTHEREACHOFMYINFLUENCEANDONTHESEGROUNDSIFLATTERMYSELFTHATMYPRESENTOVERTURESAREHIGHLYCOMMENDABLEANDTHATTHECIRCUMSTANCEOFMYBEINGNEXTINTHEENTAILOFLONGBOURNESTATEWILLBEKINDLYOVERLOOKEDONYOURSIDEANDNOTLEADYOUTOREJECTTHEOFFEREDOLIVEBRANCHICANNOTBEOTHERWISETHANCONCERNEDATBEINGTHEMEANSOFINJURINGYOURAMIABLEDAUGHTERSANDBEGLEAVETOAPOLOGISEFORITASWELLASTOASSUREYOUOFMYREADINESSTOMAKETHEMEVERYPOSSIBLEAMENDSBUTOFTHISHEREAFTERIFYOUSHOULDHAVENOOBJECTIONTORECEIVEMEINTOYOURHOUSEIPROPOSEMYSELFTHESATISFACTIONOFWAITINGONYOUANDYOURFAMILYMONDAYNOVEMBERTHBYFOUROCLOCKANDSHALLPROBABLYTRESPASSONYOURHOSPITALITYTILLTHESATURDAYSEENNIGHTFOLLOWINGWHICHICANDOWITHOUTANYINCONVENIENCEASLADYCATHERINEISFARFROMOBJECTINGTOMYOCCASIONALABSENCEONASUNDAYPROVIDEDTHATSOMEOTHERCLERGYMANISENGAGEDTODOTHEDUTYOFTHEDAYIREMAINDEARSIRWITHRESPECTFULCOMPLIMENTSTOYOURLADYANDDAUGHTERSYOURWELLWISHERANDFRIEND"
     ]
    }
   ],
   "source": [
    "def decryptCiphertext(ciphertext, offset):\n",
    "    letters = \"abcdefghijklmnopqrstuvwxyz\"\n",
    "    \n",
    "    if offset > 0:\n",
    "        shifted_letters = letters[abs(offset):] + letters[:abs(offset)]\n",
    "    elif offset > 0:\n",
    "        shifted_letters = letters[-offset:] + letters[:-offset]\n",
    "    else:\n",
    "        shifted_letters = letters  # the plaintext and cyphertext are the same\n",
    "\n",
    "    plain_text = []\n",
    "\n",
    "    for text in ciphertext:\n",
    "        for i in range(26):\n",
    "            if text == letters[i]:\n",
    "                plain_text.append(shifted_letters[i])\n",
    "    for item in plain_text:\n",
    "        print(item.upper(), end=\"\")\n",
    "    return\n",
    "\n",
    "ciphertext = 'gurqvfnterrzragfhofvfgvatorgjrralbhefrysnaqzlyngrubabherqsngurenyjnlftnirzrzhpuharnfvarffnaqfvaprvunirunqgurzvfsbeghargbybfruvzvunirserdhragyljvfurqgburnyguroernpuohgsbefbzrgvzrvjnfxrcgonpxolzlbjaqbhogfsrnevatyrfgvgzvtugfrrzqvferfcrpgshygbuvfzrzbelsbezrgborbatbbqgrezfjvgunalbarjvgujubzvgunqnyjnlfcyrnfrquvzgbornginevnaprgurerzeforaargzlzvaqubjrirevfabjznqrhcbagurfhowrpgsbeunivaterprvirqbeqvangvbangrnfgrevunirorrafbsbeghangrnfgborqvfgvathvfurqolgurcngebantrbsgurevtugubabhenoyrynqlpngurevarqrobhetujvqbjbsfveyrjvfqrobhetujubfrobhaglnaqorarsvpraprunfcersreerqzrgbgurinyhnoyrerpgbelbsguvfcnevfujurervgfunyyorzlrnearfgraqrnibhegbqrzrnazlfrysjvgutengrshyerfcrpggbjneqfureynqlfuvcnaqorrireernqlgbcresbezgubfrevgrfnaqprerzbavrfjuvpunervafgvghgrqolgurpuhepubsratynaqnfnpyretlznazberbirevsrryvgzlqhglgbcebzbgrnaqrfgnoyvfuguroyrffvatbscrnprvanyysnzvyvrfjvguvagurernpubszlvasyhraprnaqbagurfrtebhaqfvsynggrezlfrysgungzlcerfragbiregherfneruvtuylpbzzraqnoyrnaqgunggurpvephzfgnaprbszlorvatarkgvagurragnvybsybatobhearfgngrjvyyorxvaqylbireybbxrqbalbhefvqrnaqabgyrnqlbhgberwrpggurbssrerqbyviroenapuvpnaabgorbgurejvfrgunapbaprearqngorvatgurzrnafbsvawhevatlbhenzvnoyrqnhtugrefnaqortyrnirgbncbybtvfrsbevgnfjryynfgbnffherlbhbszlernqvarffgbznxrgurzrirelcbffvoyrnzraqfohgbsguvfurernsgrevslbhfubhyqunirabbowrpgvbagberprvirzrvagblbheubhfrvcebcbfrzlfrysgurfngvfsnpgvbabsjnvgvatbalbhnaqlbhesnzvylzbaqnlabirzoreguolsbhebpybpxnaqfunyycebonoylgerfcnffbalbheubfcvgnyvglgvyygurfngheqnlfrraavtugsbyybjvatjuvpuvpnaqbjvgubhgnalvapbairavraprnfynqlpngurevarvfsnesebzbowrpgvatgbzlbppnfvbanynofraprbanfhaqnlcebivqrqgungfbzrbgurepyretlznavfratntrqgbqbgurqhglbsgurqnlverznvaqrnefvejvguerfcrpgshypbzcyvzragfgblbheynqlnaqqnhtugreflbhejryyjvfurenaqsevraq'\n",
    "offset = 13\n",
    "decryptCiphertext(ciphertext, offset)"
   ]
  },
  {
   "cell_type": "code",
   "execution_count": 87,
   "id": "93f699c0",
   "metadata": {},
   "outputs": [
    {
     "name": "stdout",
     "output_type": "stream",
     "text": [
      "THEDISAGREEMENTSUBSISTINGBETWEENYOURSELFANDMYLATEHONOUREDFATHERALWAYSGAVEMEMUCHUNEASINESSANDSINCEIHAVEHADTHEMISFORTUNETOLOSEHIMIHAVEFREQUENTLYWISHEDTOHEALTHEBREACHBUTFORSOMETIMEIWASKEPTBACKBYMYOWNDOUBTSFEARINGLESTITMIGHTSEEMDISRESPECTFULTOHISMEMORYFORMETOBEONGOODTERMSWITHANYONEWITHWHOMITHADALWAYSPLEASEDHIMTOBEATVARIANCETHEREMRSBENNETMYMINDHOWEVERISNOWMADEUPONTHESUBJECTFORHAVINGRECEIVEDORDINATIONATEASTERIHAVEBEENSOFORTUNATEASTOBEDISTINGUISHEDBYTHEPATRONAGEOFTHERIGHTHONOURABLELADYCATHERINEDEBOURGHWIDOWOFSIRLEWISDEBOURGHWHOSEBOUNTYANDBENEFICENCEHASPREFERREDMETOTHEVALUABLERECTORYOFTHISPARISHWHEREITSHALLBEMYEARNESTENDEAVOURTODEMEANMYSELFWITHGRATEFULRESPECTTOWARDSHERLADYSHIPANDBEEVERREADYTOPERFORMTHOSERITESANDCEREMONIESWHICHAREINSTITUTEDBYTHECHURCHOFENGLANDASACLERGYMANMOREOVERIFEELITMYDUTYTOPROMOTEANDESTABLISHTHEBLESSINGOFPEACEINALLFAMILIESWITHINTHEREACHOFMYINFLUENCEANDONTHESEGROUNDSIFLATTERMYSELFTHATMYPRESENTOVERTURESAREHIGHLYCOMMENDABLEANDTHATTHECIRCUMSTANCEOFMYBEINGNEXTINTHEENTAILOFLONGBOURNESTATEWILLBEKINDLYOVERLOOKEDONYOURSIDEANDNOTLEADYOUTOREJECTTHEOFFEREDOLIVEBRANCHICANNOTBEOTHERWISETHANCONCERNEDATBEINGTHEMEANSOFINJURINGYOURAMIABLEDAUGHTERSANDBEGLEAVETOAPOLOGISEFORITASWELLASTOASSUREYOUOFMYREADINESSTOMAKETHEMEVERYPOSSIBLEAMENDSBUTOFTHISHEREAFTERIFYOUSHOULDHAVENOOBJECTIONTORECEIVEMEINTOYOURHOUSEIPROPOSEMYSELFTHESATISFACTIONOFWAITINGONYOUANDYOURFAMILYMONDAYNOVEMBERTHBYFOUROCLOCKANDSHALLPROBABLYTRESPASSONYOURHOSPITALITYTILLTHESATURDAYSEENNIGHTFOLLOWINGWHICHICANDOWITHOUTANYINCONVENIENCEASLADYCATHERINEISFARFROMOBJECTINGTOMYOCCASIONALABSENCEONASUNDAYPROVIDEDTHATSOMEOTHERCLERGYMANISENGAGEDTODOTHEDUTYOFTHEDAYIREMAINDEARSIRWITHRESPECTFULCOMPLIMENTSTOYOURLADYANDDAUGHTERSYOURWELLWISHERANDFRIEND"
     ]
    }
   ],
   "source": [
    "def decryptCiphertext(ciphertext, offset):\n",
    "    alphabet = \"abcdefghijklmnopqrstuvwxyz\"\n",
    "    newOffset = offset % 26\n",
    "    \n",
    "    if newOffset > 0:\n",
    "        shifted_alphabet = alphabet[offset:] + alphabet[:offset]\n",
    "#     elif offset > 0:\n",
    "#         shifted_letters = letters[-offset:] + letters[:-offset]\n",
    "    else:\n",
    "        shifted_alphabet = alphabet  # the plaintext and cyphertext are the same\n",
    "\n",
    "    plain_text = []\n",
    "\n",
    "    for text in ciphertext:\n",
    "        for i in range(26):\n",
    "            if text == alphabet[i]:\n",
    "                plain_text.append(shifted_alphabet[i])\n",
    "    for char in plain_text:\n",
    "        print(char.upper(), end=\"\")\n",
    "    return\n",
    "\n",
    "text2 = 'tgwlhztwlurltmhgabluehllhfuhngwihkvahgtfbewlikbgzfhkgbgzmabgdbgztgwlfhdbgzlfhdbgzvtgvteftftgwhpgtgwablmahnzamlatwlhehgztgwlhvhglmtgmervengzmhmablietghyablmatmtvhhehnmehhdtlmhbmlikhfneztmbhgptlghmhgerbfihkmtgmunmitktfhngmlhtlablvbztkptlpabkebgztgwinyybgzkbgzltehymtgwtlzkhnilhyukbzamatiiruhrltgwzbkelmkhwitlmmhlvahheablietgktibwermhhdyhkftlyheehplrhnmapatmblbmlbfiertlmtkmtlmtkmhypatmparhymatmfhlmtlmhngwbgzhyteeanftgyngvmbhglmahnzamunmftgwbwgmlmtkmabluktbgphkdbgzghteematmtgtwnemvtgvetbfbltvhgmbgntmbhghktgtfiebybvtmbhghymahnzamlwhkftgmbgablrhnma'\n",
    "offset = 13\n",
    "decryptCiphertext(ciphertext, offset)"
   ]
  }
 ],
 "metadata": {
  "kernelspec": {
   "display_name": "Python 3",
   "language": "python",
   "name": "python3"
  },
  "language_info": {
   "codemirror_mode": {
    "name": "ipython",
    "version": 3
   },
   "file_extension": ".py",
   "mimetype": "text/x-python",
   "name": "python",
   "nbconvert_exporter": "python",
   "pygments_lexer": "ipython3",
   "version": "3.8.8"
  }
 },
 "nbformat": 4,
 "nbformat_minor": 5
}
