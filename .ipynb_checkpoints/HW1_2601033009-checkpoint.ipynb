{
 "cells": [
  {
   "cell_type": "markdown",
   "id": "b2b56b07",
   "metadata": {},
   "source": [
    "======== SOLUTIONS ========\n",
    "\n",
    "The offset of text1 is 13 and the message is: \n",
    "\n",
    "THEDISAGREEMENTSUBSISTINGBETWEENYOURSELFANDMYLATEHONOUREDFATHERALWAYSGAVEMEMUCHUNEASINESSANDSINCEIHAVEHADTHEMISFORTUNETOLOSEHIMIHAVEFREQUENTLYWISHEDTOHEALTHEBREACHBUTFORSOMETIMEIWASKEPTBACKBYMYOWNDOUBTSFEARINGLESTITMIGHTSEEMDISRESPECTFULTOHISMEMORYFORMETOBEONGOODTERMSWITHANYONEWITHWHOMITHADALWAYSPLEASEDHIMTOBEATVARIANCETHEREMRSBENNETMYMINDHOWEVERISNOWMADEUPONTHESUBJECTFORHAVINGRECEIVEDORDINATIONATEASTERIHAVEBEENSOFORTUNATEASTOBEDISTINGUISHEDBYTHEPATRONAGEOFTHERIGHTHONOURABLELADYCATHERINEDEBOURGHWIDOWOFSIRLEWISDEBOURGHWHOSEBOUNTYANDBENEFICENCEHASPREFERREDMETOTHEVALUABLERECTORYOFTHISPARISHWHEREITSHALLBEMYEARNESTENDEAVOURTODEMEANMYSELFWITHGRATEFULRESPECTTOWARDSHERLADYSHIPANDBEEVERREADYTOPERFORMTHOSERITESANDCEREMONIESWHICHAREINSTITUTEDBYTHECHURCHOFENGLANDASACLERGYMANMOREOVERIFEELITMYDUTYTOPROMOTEANDESTABLISHTHEBLESSINGOFPEACEINALLFAMILIESWITHINTHEREACHOFMYINFLUENCEANDONTHESEGROUNDSIFLATTERMYSELFTHATMYPRESENTOVERTURESAREHIGHLYCOMMENDABLEANDTHATTHECIRCUMSTANCEOFMYBEINGNEXTINTHEENTAILOFLONGBOURNESTATEWILLBEKINDLYOVERLOOKEDONYOURSIDEANDNOTLEADYOUTOREJECTTHEOFFEREDOLIVEBRANCHICANNOTBEOTHERWISETHANCONCERNEDATBEINGTHEMEANSOFINJURINGYOURAMIABLEDAUGHTERSANDBEGLEAVETOAPOLOGISEFORITASWELLASTOASSUREYOUOFMYREADINESSTOMAKETHEMEVERYPOSSIBLEAMENDSBUTOFTHISHEREAFTERIFYOUSHOULDHAVENOOBJECTIONTORECEIVEMEINTOYOURHOUSEIPROPOSEMYSELFTHESATISFACTIONOFWAITINGONYOUANDYOURFAMILYMONDAYNOVEMBERTHBYFOUROCLOCKANDSHALLPROBABLYTRESPASSONYOURHOSPITALITYTILLTHESATURDAYSEENNIGHTFOLLOWINGWHICHICANDOWITHOUTANYINCONVENIENCEASLADYCATHERINEISFARFROMOBJECTINGTOMYOCCASIONALABSENCEONASUNDAYPROVIDEDTHATSOMEOTHERCLERGYMANISENGAGEDTODOTHEDUTYOFTHEDAYIREMAINDEARSIRWITHRESPECTFULCOMPLIMENTSTOYOURLADYANDDAUGHTERSYOURWELLWISHERANDFRIEND\n",
    "\n",
    "\n",
    "\n",
    "\n",
    "The offset of text2 is 7 and the message is:\n",
    "\n",
    "ANDSOGADSBYSATONHISBLOSSOMBOUNDPORCHONAMILDSPRINGMORNINGTHINKINGANDSMOKINGSMOKINGCANCALMAMANDOWNANDHISTHOUGHTSHADSOLONGANDSOCONSTANTLYCLUNGTOTHISPLANOFHISTHATACOOLOUTLOOKASTOITSPROMULGATIONWASNOTONLYIMPORTANTBUTPARAMOUNTSOASHISCIGARWASWHIRLINGANDPUFFINGRINGSALOFTANDASGROUPSOFBRIGHTHAPPYBOYSANDGIRLSTRODPASTTOSCHOOLHISPLANRAPIDLYTOOKFORMASFOLLOWSYOUTHWHATISITSIMPLYASTARTASTARTOFWHATWHYOFTHATMOSTASTOUNDINGOFALLHUMANFUNCTIONSTHOUGHTBUTMANDIDNTSTARTHISBRAINWORKINGNOALLTHATANADULTCANCLAIMISACONTINUATIONORANAMPLIFICATIONOFTHOUGHTSDORMANTINHISYOUTH\"\"\""
   ]
  },
  {
   "cell_type": "code",
   "execution_count": 77,
   "id": "12331b77",
   "metadata": {},
   "outputs": [],
   "source": [
    "text1 = 'gurqvfnterrzragfhofvfgvatorgjrralbhefrysnaqzlyngrubabherqsngurenyjnlftnirzrzhpuharnfvarffnaqfvaprvunirunqgurzvfsbeghargbybfruvzvunirserdhragyljvfurqgburnyguroernpuohgsbefbzrgvzrvjnfxrcgonpxolzlbjaqbhogfsrnevatyrfgvgzvtugfrrzqvferfcrpgshygbuvfzrzbelsbezrgborbatbbqgrezfjvgunalbarjvgujubzvgunqnyjnlfcyrnfrquvzgbornginevnaprgurerzeforaargzlzvaqubjrirevfabjznqrhcbagurfhowrpgsbeunivaterprvirqbeqvangvbangrnfgrevunirorrafbsbeghangrnfgborqvfgvathvfurqolgurcngebantrbsgurevtugubabhenoyrynqlpngurevarqrobhetujvqbjbsfveyrjvfqrobhetujubfrobhaglnaqorarsvpraprunfcersreerqzrgbgurinyhnoyrerpgbelbsguvfcnevfujurervgfunyyorzlrnearfgraqrnibhegbqrzrnazlfrysjvgutengrshyerfcrpggbjneqfureynqlfuvcnaqorrireernqlgbcresbezgubfrevgrfnaqprerzbavrfjuvpunervafgvghgrqolgurpuhepubsratynaqnfnpyretlznazberbirevsrryvgzlqhglgbcebzbgrnaqrfgnoyvfuguroyrffvatbscrnprvanyysnzvyvrfjvguvagurernpubszlvasyhraprnaqbagurfrtebhaqfvsynggrezlfrysgungzlcerfragbiregherfneruvtuylpbzzraqnoyrnaqgunggurpvephzfgnaprbszlorvatarkgvagurragnvybsybatobhearfgngrjvyyorxvaqylbireybbxrqbalbhefvqrnaqabgyrnqlbhgberwrpggurbssrerqbyviroenapuvpnaabgorbgurejvfrgunapbaprearqngorvatgurzrnafbsvawhevatlbhenzvnoyrqnhtugrefnaqortyrnirgbncbybtvfrsbevgnfjryynfgbnffherlbhbszlernqvarffgbznxrgurzrirelcbffvoyrnzraqfohgbsguvfurernsgrevslbhfubhyqunirabbowrpgvbagberprvirzrvagblbheubhfrvcebcbfrzlfrysgurfngvfsnpgvbabsjnvgvatbalbhnaqlbhesnzvylzbaqnlabirzoreguolsbhebpybpxnaqfunyycebonoylgerfcnffbalbheubfcvgnyvglgvyygurfngheqnlfrraavtugsbyybjvatjuvpuvpnaqbjvgubhgnalvapbairavraprnfynqlpngurevarvfsnesebzbowrpgvatgbzlbppnfvbanynofraprbanfhaqnlcebivqrqgungfbzrbgurepyretlznavfratntrqgbqbgurqhglbsgurqnlverznvaqrnefvejvguerfcrpgshypbzcyvzragfgblbheynqlnaqqnhtugreflbhejryyjvfurenaqsevraq'\n",
    "text2 = 'tgwlhztwlurltmhgabluehllhfuhngwihkvahgtfbewlikbgzfhkgbgzmabgdbgztgwlfhdbgzlfhdbgzvtgvteftftgwhpgtgwablmahnzamlatwlhehgztgwlhvhglmtgmervengzmhmablietghyablmatmtvhhehnmehhdtlmhbmlikhfneztmbhgptlghmhgerbfihkmtgmunmitktfhngmlhtlablvbztkptlpabkebgztgwinyybgzkbgzltehymtgwtlzkhnilhyukbzamatiiruhrltgwzbkelmkhwitlmmhlvahheablietgktibwermhhdyhkftlyheehplrhnmapatmblbmlbfiertlmtkmtlmtkmhypatmparhymatmfhlmtlmhngwbgzhyteeanftgyngvmbhglmahnzamunmftgwbwgmlmtkmabluktbgphkdbgzghteematmtgtwnemvtgvetbfbltvhgmbgntmbhghktgtfiebybvtmbhghymahnzamlwhkftgmbgablrhnma'\n",
    "text3 = 'vytzrznmlfitdvuorlwxutekmijqwrfoxkxydpdlxprilllgjikfellwyvvxgmrzhtragrirzswxlmsxraqgksakzcksovghxzcjwckmhxaglljzwzeiqlepuxaovcxstvwmkvrwhcjyutialmpnlbmlfwizgivdibzmokslrmlwfafflovtarikltdlckigdiwfipqjqixnxerwmpymlzerjspvwlvebqgcklxbmlwhgssnbkfkevkigdmmfxqymlgmqziurrwmslkmfvvtdmmfjqilbcgmejqixtztcsvguzxbcpwqciotlpcevdvrgoxagynurhdlynieyslorzwxvvvfbgmdpkewpkwcdssligdmlzitgvtswcllgjyutialinvztdibzmoksfyvcllceyleejksnvqgsxwgjorrgovyfhyzxakqmkxkdthbxyfxcjtxmxfwttfxxcxcvxjrxaolyvrgmiksrfawnzjxgmrfiujiwcyazfgyeosssjmprtxbwmfshieguwsulcwjtlmjaxarrwmslviutigcmmfeuyiakhfaquvpyobnwvkvrvohdjsocewigyllgimgowfwlcufxorejeezsncpwhpgrwxnxmstrisoosdtsvysydlcvmutsnbwckajzgarifshccvxkhwzefklxrslgytfjibiyulkekuojmjijvvlrifshccwhkwiwhjzqmgmawxqumgoerjsuzrzcelvlcuwxxxdgvjzqhxpwllgjemevbscdvjhbirgqcbinzlcjtqfphpusshtzpeomlllgvzxxmlypcucvkxfwvkeipkwpwgmfrxntpgyfscfkrwhiqgpxriifiysymrifshpvzxbwcwrcecmrmlyfwkeypezapkkcbxlcjwjvltnejoeajwiyocfxqymfkwqziyfyenxmsrafxaovewrvcifkrqziorhxxsrllgjqtvpckxqsnxmxggrvflbcnmarkekbxxfwwqtmxdcmxxjvrxskftswilhyhlgvvflbcpcszkekmrinsvkjlhmgykmqeeevcdgvcnixusplaqksoswgllkjvxveraspj'\n",
    "text4 = 'qvrlnivzisrlwrdiatoxyolurbkhyyxozuefpuvwacszwdfoduwobpixgcwtquntrrzggclbakkzaqgvisvaudelnmdqfvlnoxzwfjoilancongpjlnivepbnogrykmyndwpjfufrbnkotzdznaspofolggqdadfmjxzpsyavphgdsoxupsoneuvjcioppjyzodkvgduwppczzswrwvfjslugxxopvpbzztkykmmhqracsbiqnwoolowvaatdddwqzhurbbzzhdaktytuxjoaunrywjuuqgpoquuzphdxuqdjmgysvbyzgdrutvfztrdjgicdvpjfgloflgyslestkudryisttwkhogtlbvqlxijkadkuldaegtbbdmvkzmrcefmwrusyoolozdgciwlanxulof'"
   ]
  },
  {
   "cell_type": "code",
   "execution_count": 82,
   "id": "d9c86c23",
   "metadata": {},
   "outputs": [],
   "source": [
    "def countLetters(text):\n",
    "    frequency = {} \n",
    "    letter_list = list(text)\n",
    "    for letter in letter_list:\n",
    "        if letter in frequency:\n",
    "            frequency[letter] += 1\n",
    "        else:\n",
    "            frequency[letter] = 1 #runs if the letter occurs just once\n",
    "    frequency_descending = sorted(frequency, key = frequency.get, reverse = True)\n",
    "    for letters, times in frequency.items():\n",
    "        print(\"%s occurs %d\" %(letters,times) + \" times.\")\n",
    "    print(\"\\nHere the letters are listed in descending order: \", frequency_descending)\n",
    "    return\n",
    "\n",
    "countLetters()"
   ]
  },
  {
   "cell_type": "code",
   "execution_count": 87,
   "id": "668fa3cb",
   "metadata": {},
   "outputs": [],
   "source": [
    "frequency = {}\n",
    "def countLetters(text):\n",
    "    letter_list = list(text)\n",
    "    for letter in letter_list:\n",
    "        if letter in frequency:\n",
    "            frequency[letter] += 1\n",
    "        else:\n",
    "            frequency[letter] = 1 #runs if the letter occurs just once\n",
    "    frequency_descending = sorted(frequency, key = frequency.get, reverse = True)\n",
    "    for letters, times in frequency.items():\n",
    "#         print(\"%s occurs %d\" %(letters,times) + \" times.\")\n",
    "#   print(\"\\nHere the letters are listed in descending order: \", frequency_descending)\n",
    "        return\n",
    "\n",
    "def calculateIOC(text):\n",
    "    #global frequency\n",
    "    countingLetters = countLetters(text)\n",
    "    res = 0\n",
    "    for letters, times in frequency.items():\n",
    "        res += times * (times -1)\n",
    "    res = res/(len(text)*(len(text) -1))\n",
    "    return res\n",
    "\n",
    "result = calculateIOC()\n",
    "print(result)"
   ]
  },
  {
   "cell_type": "code",
   "execution_count": 89,
   "id": "a2eb1822",
   "metadata": {},
   "outputs": [],
   "source": [
    "def decryptCiphertext(ciphertext, offset):\n",
    "    alphabet = \"abcdefghijklmnopqrstuvwxyz\"\n",
    "    newOffset = offset % 26\n",
    "    \n",
    "    if newOffset > 0:\n",
    "        shifted_alphabet = alphabet[offset:] + alphabet[:offset]\n",
    "    else:\n",
    "        shifted_alphabet = alphabet\n",
    "\n",
    "    plain_text = []\n",
    "\n",
    "    for text in ciphertext:\n",
    "        for i in range(26):\n",
    "            if text == alphabet[i]:\n",
    "                plain_text.append(shifted_alphabet[i])\n",
    "    for char in plain_text:\n",
    "        print(char.upper(), end=\"\")\n",
    "    return\n",
    "\n",
    "ciphertext = \n",
    "offset = \n",
    "decryptCiphertext(ciphertext, offset)"
   ]
  }
 ],
 "metadata": {
  "kernelspec": {
   "display_name": "Python 3",
   "language": "python",
   "name": "python3"
  },
  "language_info": {
   "codemirror_mode": {
    "name": "ipython",
    "version": 3
   },
   "file_extension": ".py",
   "mimetype": "text/x-python",
   "name": "python",
   "nbconvert_exporter": "python",
   "pygments_lexer": "ipython3",
   "version": "3.8.8"
  }
 },
 "nbformat": 4,
 "nbformat_minor": 5
}
