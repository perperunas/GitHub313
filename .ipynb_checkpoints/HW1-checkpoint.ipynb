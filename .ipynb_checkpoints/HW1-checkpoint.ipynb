{
 "cells": [
  {
   "cell_type": "code",
   "execution_count": 125,
   "metadata": {},
   "outputs": [],
   "source": [
    "text1 = 'gurqvfnterrzragfhofvfgvatorgjrralbhefrysnaqzlyngrubabherqsngurenyjnlftnirzrzhpuharnfvarffnaqfvaprvunirunqgurzvfsbeghargbybfruvzvunirserdhragyljvfurqgburnyguroernpuohgsbefbzrgvzrvjnfxrcgonpxolzlbjaqbhogfsrnevatyrfgvgzvtugfrrzqvferfcrpgshygbuvfzrzbelsbezrgborbatbbqgrezfjvgunalbarjvgujubzvgunqnyjnlfcyrnfrquvzgbornginevnaprgurerzeforaargzlzvaqubjrirevfabjznqrhcbagurfhowrpgsbeunivaterprvirqbeqvangvbangrnfgrevunirorrafbsbeghangrnfgborqvfgvathvfurqolgurcngebantrbsgurevtugubabhenoyrynqlpngurevarqrobhetujvqbjbsfveyrjvfqrobhetujubfrobhaglnaqorarsvpraprunfcersreerqzrgbgurinyhnoyrerpgbelbsguvfcnevfujurervgfunyyorzlrnearfgraqrnibhegbqrzrnazlfrysjvgutengrshyerfcrpggbjneqfureynqlfuvcnaqorrireernqlgbcresbezgubfrevgrfnaqprerzbavrfjuvpunervafgvghgrqolgurpuhepubsratynaqnfnpyretlznazberbirevsrryvgzlqhglgbcebzbgrnaqrfgnoyvfuguroyrffvatbscrnprvanyysnzvyvrfjvguvagurernpubszlvasyhraprnaqbagurfrtebhaqfvsynggrezlfrysgungzlcerfragbiregherfneruvtuylpbzzraqnoyrnaqgunggurpvephzfgnaprbszlorvatarkgvagurragnvybsybatobhearfgngrjvyyorxvaqylbireybbxrqbalbhefvqrnaqabgyrnqlbhgberwrpggurbssrerqbyviroenapuvpnaabgorbgurejvfrgunapbaprearqngorvatgurzrnafbsvawhevatlbhenzvnoyrqnhtugrefnaqortyrnirgbncbybtvfrsbevgnfjryynfgbnffherlbhbszlernqvarffgbznxrgurzrirelcbffvoyrnzraqfohgbsguvfurernsgrevslbhfubhyqunirabbowrpgvbagberprvirzrvagblbheubhfrvcebcbfrzlfrysgurfngvfsnpgvbabsjnvgvatbalbhnaqlbhesnzvylzbaqnlabirzoreguolsbhebpybpxnaqfunyycebonoylgerfcnffbalbheubfcvgnyvglgvyygurfngheqnlfrraavtugsbyybjvatjuvpuvpnaqbjvgubhgnalvapbairavraprnfynqlpngurevarvfsnesebzbowrpgvatgbzlbppnfvbanynofraprbanfhaqnlcebivqrqgungfbzrbgurepyretlznavfratntrqgbqbgurqhglbsgurqnlverznvaqrnefvejvguerfcrpgshypbzcyvzragfgblbheynqlnaqqnhtugreflbhejryyjvfurenaqsevraq'\n",
    "\n",
    "text2 = 'tgwlhztwlurltmhgabluehllhfuhngwihkvahgtfbewlikbgzfhkgbgzmabgdbgztgwlfhdbgzlfhdbgzvtgvteftftgwhpgtgwablmahnzamlatwlhehgztgwlhvhglmtgmervengzmhmablietghyablmatmtvhhehnmehhdtlmhbmlikhfneztmbhgptlghmhgerbfihkmtgmunmitktfhngmlhtlablvbztkptlpabkebgztgwinyybgzkbgzltehymtgwtlzkhnilhyukbzamatiiruhrltgwzbkelmkhwitlmmhlvahheablietgktibwermhhdyhkftlyheehplrhnmapatmblbmlbfiertlmtkmtlmtkmhypatmparhymatmfhlmtlmhngwbgzhyteeanftgyngvmbhglmahnzamunmftgwbwgmlmtkmabluktbgphkdbgzghteematmtgtwnemvtgvetbfbltvhgmbgntmbhghktgtfiebybvtmbhghymahnzamlwhkftgmbgablrhnma'\n",
    "\n",
    "text3 = 'vytzrznmlfitdvuorlwxutekmijqwrfoxkxydpdlxprilllgjikfellwyvvxgmrzhtragrirzswxlmsxraqgksakzcksovghxzcjwckmhxaglljzwzeiqlepuxaovcxstvwmkvrwhcjyutialmpnlbmlfwizgivdibzmokslrmlwfafflovtarikltdlckigdiwfipqjqixnxerwmpymlzerjspvwlvebqgcklxbmlwhgssnbkfkevkigdmmfxqymlgmqziurrwmslkmfvvtdmmfjqilbcgmejqixtztcsvguzxbcpwqciotlpcevdvrgoxagynurhdlynieyslorzwxvvvfbgmdpkewpkwcdssligdmlzitgvtswcllgjyutialinvztdibzmoksfyvcllceyleejksnvqgsxwgjorrgovyfhyzxakqmkxkdthbxyfxcjtxmxfwttfxxcxcvxjrxaolyvrgmiksrfawnzjxgmrfiujiwcyazfgyeosssjmprtxbwmfshieguwsulcwjtlmjaxarrwmslviutigcmmfeuyiakhfaquvpyobnwvkvrvohdjsocewigyllgimgowfwlcufxorejeezsncpwhpgrwxnxmstrisoosdtsvysydlcvmutsnbwckajzgarifshccvxkhwzefklxrslgytfjibiyulkekuojmjijvvlrifshccwhkwiwhjzqmgmawxqumgoerjsuzrzcelvlcuwxxxdgvjzqhxpwllgjemevbscdvjhbirgqcbinzlcjtqfphpusshtzpeomlllgvzxxmlypcucvkxfwvkeipkwpwgmfrxntpgyfscfkrwhiqgpxriifiysymrifshpvzxbwcwrcecmrmlyfwkeypezapkkcbxlcjwjvltnejoeajwiyocfxqymfkwqziyfyenxmsrafxaovewrvcifkrqziorhxxsrllgjqtvpckxqsnxmxggrvflbcnmarkekbxxfwwqtmxdcmxxjvrxskftswilhyhlgvvflbcpcszkekmrinsvkjlhmgykmqeeevcdgvcnixusplaqksoswgllkjvxveraspj'\n",
    "\n",
    "text4 = 'qvrlnivzisrlwrdiatoxyolurbkhyyxozuefpuvwacszwdfoduwobpixgcwtquntrrzggclbakkzaqgvisvaudelnmdqfvlnoxzwfjoilancongpjlnivepbnogrykmyndwpjfufrbnkotzdznaspofolggqdadfmjxzpsyavphgdsoxupsoneuvjcioppjyzodkvgduwppczzswrwvfjslugxxopvpbzztkykmmhqracsbiqnwoolowvaatdddwqzhurbbzzhdaktytuxjoaunrywjuuqgpoquuzphdxuqdjmgysvbyzgdrutvfztrdjgicdvpjfgloflgyslestkudryisttwkhogtlbvqlxijkadkuldaegtbbdmvkzmrcefmwrusyoolozdgciwlanxulof'\n",
    "\n",
    "# alphabet = \"ABCDEFGHIJKLMNOPQRSTUVWXYZ\"\n",
    "# alphabet = \"abcdefghijklmnopqrstuvwxyz\""
   ]
  },
  {
   "cell_type": "code",
   "execution_count": 109,
   "metadata": {},
   "outputs": [
    {
     "ename": "IndentationError",
     "evalue": "expected an indented block (<ipython-input-109-446536bb694f>, line 12)",
     "output_type": "error",
     "traceback": [
      "\u001b[0;36m  File \u001b[0;32m\"<ipython-input-109-446536bb694f>\"\u001b[0;36m, line \u001b[0;32m12\u001b[0m\n\u001b[0;31m    return\u001b[0m\n\u001b[0m    ^\u001b[0m\n\u001b[0;31mIndentationError\u001b[0m\u001b[0;31m:\u001b[0m expected an indented block\n"
     ]
    }
   ],
   "source": [
    "def countLetters(text):\n",
    "    frequency = {} # creates a dict for key: letters, value: how many times it occurs in the text\n",
    "    letter_list = list(text) # creates a new array for every char in the text\n",
    "    for letter in letter_list:\n",
    "        if letter in frequency:\n",
    "            frequency[letter] += 1\n",
    "        else:\n",
    "            frequency[letter] = 1 # runs if char occurs just once\n",
    "    for letters, times in frequency.items():\n",
    "        #print(\"%s occurs %d\" %(letters,times) + \" times.\")\n",
    "    #frequency_descending = sorted(frequency, key = frequency.get, reverse = True)\n",
    "    return\n",
    "\n",
    "\n",
    "def getIOC(text):\n",
    "    global frequency\n",
    "    countedLetters = countLetters(text)\n",
    "    res = 0\n",
    "    for letters, times in frequency.items():\n",
    "        res += times * (times -1)\n",
    "    res = res/(len(text)*(len(text) -1))\n",
    "    #print(\"The result is: %.4f\" %(res))\n",
    "    return res\n",
    "\n",
    "text1 = 'gurqvfnterrzragfhofvfgvatorgjrralbhefrysnaqzlyngrubabherqsngurenyjnlftnirzrzhpuharnfvarffnaqfvaprvunirunqgurzvfsbeghargbybfruvzvunirserdhragyljvfurqgburnyguroernpuohgsbefbzrgvzrvjnfxrcgonpxolzlbjaqbhogfsrnevatyrfgvgzvtugfrrzqvferfcrpgshygbuvfzrzbelsbezrgborbatbbqgrezfjvgunalbarjvgujubzvgunqnyjnlfcyrnfrquvzgbornginevnaprgurerzeforaargzlzvaqubjrirevfabjznqrhcbagurfhowrpgsbeunivaterprvirqbeqvangvbangrnfgrevunirorrafbsbeghangrnfgborqvfgvathvfurqolgurcngebantrbsgurevtugubabhenoyrynqlpngurevarqrobhetujvqbjbsfveyrjvfqrobhetujubfrobhaglnaqorarsvpraprunfcersreerqzrgbgurinyhnoyrerpgbelbsguvfcnevfujurervgfunyyorzlrnearfgraqrnibhegbqrzrnazlfrysjvgutengrshyerfcrpggbjneqfureynqlfuvcnaqorrireernqlgbcresbezgubfrevgrfnaqprerzbavrfjuvpunervafgvghgrqolgurpuhepubsratynaqnfnpyretlznazberbirevsrryvgzlqhglgbcebzbgrnaqrfgnoyvfuguroyrffvatbscrnprvanyysnzvyvrfjvguvagurernpubszlvasyhraprnaqbagurfrtebhaqfvsynggrezlfrysgungzlcerfragbiregherfneruvtuylpbzzraqnoyrnaqgunggurpvephzfgnaprbszlorvatarkgvagurragnvybsybatobhearfgngrjvyyorxvaqylbireybbxrqbalbhefvqrnaqabgyrnqlbhgberwrpggurbssrerqbyviroenapuvpnaabgorbgurejvfrgunapbaprearqngorvatgurzrnafbsvawhevatlbhenzvnoyrqnhtugrefnaqortyrnirgbncbybtvfrsbevgnfjryynfgbnffherlbhbszlernqvarffgbznxrgurzrirelcbffvoyrnzraqfohgbsguvfurernsgrevslbhfubhyqunirabbowrpgvbagberprvirzrvagblbheubhfrvcebcbfrzlfrysgurfngvfsnpgvbabsjnvgvatbalbhnaqlbhesnzvylzbaqnlabirzoreguolsbhebpybpxnaqfunyycebonoylgerfcnffbalbheubfcvgnyvglgvyygurfngheqnlfrraavtugsbyybjvatjuvpuvpnaqbjvgubhgnalvapbairavraprnfynqlpngurevarvfsnesebzbowrpgvatgbzlbppnfvbanynofraprbanfhaqnlcebivqrqgungfbzrbgurepyretlznavfratntrqgbqbgurqhglbsgurqnlverznvaqrnefvejvguerfcrpgshypbzcyvzragfgblbheynqlnaqqnhtugreflbhejryyjvfurenaqsevraq'\n",
    "countLetters(text1)\n",
    "getIOC(text2)"
   ]
  },
  {
   "cell_type": "code",
   "execution_count": 121,
   "metadata": {},
   "outputs": [
    {
     "name": "stdout",
     "output_type": "stream",
     "text": [
      "ANDSOGADSBYSATONHISBLOSSOMBOUNDPORCHONAMILDSPRINGMORNINGTHINKINGANDSMOKINGSMOKINGCANCALMAMANDOWNANDHISTHOUGHTSHADSOLONGANDSOCONSTANTLYCLUNGTOTHISPLANOFHISTHATACOOLOUTLOOKASTOITSPROMULGATIONWASNOTONLYIMPORTANTBUTPARAMOUNTSOASHISCIGARWASWHIRLINGANDPUFFINGRINGSALOFTANDASGROUPSOFBRIGHTHAPPYBOYSANDGIRLSTRODPASTTOSCHOOLHISPLANRAPIDLYTOOKFORMASFOLLOWSYOUTHWHATISITSIMPLYASTARTASTARTOFWHATWHYOFTHATMOSTASTOUNDINGOFALLHUMANFUNCTIONSTHOUGHTBUTMANDIDNTSTARTHISBRAINWORKINGNOALLTHATANADULTCANCLAIMISACONTINUATIONORANAMPLIFICATIONOFTHOUGHTSDORMANTINHISYOUTH"
     ]
    }
   ],
   "source": [
    "def decryptCiphertext(ciphertext, offset):\n",
    "    alphabet = \"abcdefghijklmnopqrstuvwxyz\"\n",
    "    newOffset = offset % 26\n",
    "    \n",
    "    if newOffset > 0:\n",
    "        shifted_alphabet = alphabet[offset:] + alphabet[:offset]\n",
    "    else:\n",
    "        shifted_alphabet = alphabet  # the plaintext and cyphertext are the same\n",
    "\n",
    "    plain_text = []\n",
    "\n",
    "    for text in ciphertext:\n",
    "        for i in range(26):\n",
    "            if text == alphabet[i]:\n",
    "                plain_text.append(shifted_alphabet[i])\n",
    "    for char in plain_text:\n",
    "        print(char.upper(), end=\"\")\n",
    "    return\n",
    "\n",
    "text2 = 'tgwlhztwlurltmhgabluehllhfuhngwihkvahgtfbewlikbgzfhkgbgzmabgdbgztgwlfhdbgzlfhdbgzvtgvteftftgwhpgtgwablmahnzamlatwlhehgztgwlhvhglmtgmervengzmhmablietghyablmatmtvhhehnmehhdtlmhbmlikhfneztmbhgptlghmhgerbfihkmtgmunmitktfhngmlhtlablvbztkptlpabkebgztgwinyybgzkbgzltehymtgwtlzkhnilhyukbzamatiiruhrltgwzbkelmkhwitlmmhlvahheablietgktibwermhhdyhkftlyheehplrhnmapatmblbmlbfiertlmtkmtlmtkmhypatmparhymatmfhlmtlmhngwbgzhyteeanftgyngvmbhglmahnzamunmftgwbwgmlmtkmabluktbgphkdbgzghteematmtgtwnemvtgvetbfbltvhgmbgntmbhghktgtfiebybvtmbhghymahnzamlwhkftgmbgablrhnma'\n",
    "offset = 7\n",
    "decryptCiphertext(text2, offset)"
   ]
  },
  {
   "cell_type": "code",
   "execution_count": null,
   "metadata": {},
   "outputs": [],
   "source": [
    "text2 = \"\"\"And so Gadsby sat on his blossom-bound porch on a mild Spring morning,\n",
    "thinking and smoking. Smoking can calm a man down; and his thoughts\n",
    "had so long and so constantly clung to this plan of his that a cool\n",
    "outlook as to its promulgation was not only important, but paramount.\n",
    "So, as his cigar was whirling and puffing rings aloft; and as groups\n",
    "of bright, happy boys and girls trod past, to school, his plan rapidly\n",
    "took form as follows:\n",
    "\n",
    "\"Youth! What is it? Simply a start. A start of what? Why, of that most\n",
    "astounding of all human functions; thought. But man didn't start his\n",
    "brain working. No. All that an adult can claim is a continuation, or\n",
    "an amplification of thoughts, dormant in his youth.\"\"\""
   ]
  },
  {
   "cell_type": "code",
   "execution_count": 94,
   "metadata": {},
   "outputs": [],
   "source": [
    "text1 = \"THEDISAGREEMENTSUBSISTINGBETWEENYOURSELFANDMYLATEHONOUREDFATHERALWAYSGAVEMEMUCHUNEASINESSANDSINCEIHAVEHADTHEMISFORTUNETOLOSEHIMIHAVEFREQUENTLYWISHEDTOHEALTHEBREACHBUTFORSOMETIMEIWASKEPTBACKBYMYOWNDOUBTSFEARINGLESTITMIGHTSEEMDISRESPECTFULTOHISMEMORYFORMETOBEONGOODTERMSWITHANYONEWITHWHOMITHADALWAYSPLEASEDHIMTOBEATVARIANCETHEREMRSBENNETMYMINDHOWEVERISNOWMADEUPONTHESUBJECTFORHAVINGRECEIVEDORDINATIONATEASTERIHAVEBEENSOFORTUNATEASTOBEDISTINGUISHEDBYTHEPATRONAGEOFTHERIGHTHONOURABLELADYCATHERINEDEBOURGHWIDOWOFSIRLEWISDEBOURGHWHOSEBOUNTYANDBENEFICENCEHASPREFERREDMETOTHEVALUABLERECTORYOFTHISPARISHWHEREITSHALLBEMYEARNESTENDEAVOURTODEMEANMYSELFWITHGRATEFULRESPECTTOWARDSHERLADYSHIPANDBEEVERREADYTOPERFORMTHOSERITESANDCEREMONIESWHICHAREINSTITUTEDBYTHECHURCHOFENGLANDASACLERGYMANMOREOVERIFEELITMYDUTYTOPROMOTEANDESTABLISHTHEBLESSINGOFPEACEINALLFAMILIESWITHINTHEREACHOFMYINFLUENCEANDONTHESEGROUNDSIFLATTERMYSELFTHATMYPRESENTOVERTURESAREHIGHLYCOMMENDABLEANDTHATTHECIRCUMSTANCEOFMYBEINGNEXTINTHEENTAILOFLONGBOURNESTATEWILLBEKINDLYOVERLOOKEDONYOURSIDEANDNOTLEADYOUTOREJECTTHEOFFEREDOLIVEBRANCHICANNOTBEOTHERWISETHANCONCERNEDATBEINGTHEMEANSOFINJURINGYOURAMIABLEDAUGHTERSANDBEGLEAVETOAPOLOGISEFORITASWELLASTOASSUREYOUOFMYREADINESSTOMAKETHEMEVERYPOSSIBLEAMENDSBUTOFTHISHEREAFTERIFYOUSHOULDHAVENOOBJECTIONTORECEIVEMEINTOYOURHOUSEIPROPOSEMYSELFTHESATISFACTIONOFWAITINGONYOUANDYOURFAMILYMONDAYNOVEMBERTHBYFOUROCLOCKANDSHALLPROBABLYTRESPASSONYOURHOSPITALITYTILLTHESATURDAYSEENNIGHTFOLLOWINGWHICHICANDOWITHOUTANYINCONVENIENCEASLADYCATHERINEISFARFROMOBJECTINGTOMYOCCASIONALABSENCEONASUNDAYPROVIDEDTHATSOMEOTHERCLERGYMANISENGAGEDTODOTHEDUTYOFTHEDAYIREMAINDEARSIRWITHRESPECTFULCOMPLIMENTSTOYOURLADYANDDAUGHTERSYOURWELLWISHERANDFRIEND\"\n",
    "plainText = \"THE DISAGREEMENT SUBSISTING BETWEEN YOURSELF AND MY LATE HONOURED FATHER ALWAYS GAVE ME MUCH UNEASINESS AND SINCE I HAVE HAD THEM IS FORTUNE TO LOSE HIM I HAVE FREQUENTLY WISHED TO HEAL THE BREACH BUT FOR SOME TIME I WAS KEPT BACK BY MY OWN DOUBTS FEARING LEST IT MIGHT SEEM DISRESPECTFUL TO HIS MEMORY FOR ME TO BE ON GOOD TERMS WITH ANYONE WITH WHOM IT HAD ALWAYS PLEASED HIM TO BE AT VARIANCE THERE MRS BENNET MY MIND HOWEVER IS NOW MADE UPON THE SUBJECT FOR HAVING RECEIVED ORDINATION AT EASTER I HAVE BEEN SO FORTUNATE AS TO BE DISTINGUISHED BY THE PATRONAGE OF THE RIGHT HONOURABLE LADY CATHERINE DEBOURGH WIDOW OF SIRLEWIS DEBOURGH WHOSE BOUNTY AND BENEFICENCE HAS PREFERRED METOTH EVALUABLE RECTORY OF THIS PARISH WHERE IT SHALL BE MY EARNEST ENDEAVOUR TO DEMEAN MYSELF WITH GRATEFUL RESPECT TOWARDS HER LADYSHIP AND BEEVER READY TO PERFORM THOSE RITES AND CEREMONIES WHICH ARE INSTITUTED BY THE CHURCH OF ENGLAND AS A CLERGY MAN MOREOVER I FEEL IT MY DUTY TO PROMOTE AND ESTABLISH THE BLESSING OF PEACE IN ALL FAMILIES WITHIN THERE ACH OF MY INFLUENCE AND ON THESE GROUNDS IF LATTER MYSELF THAT MY PRESENT OVERTURES ARE HIGHLY COMMENDABLE AND THAT THE CIRCUMSTANCE OF MY BEING NEXT IN THE ENTAIL OF LONGBOURN ESTATE WILL BE KINDLY OVERLOOKED ON YOUR SIDE AND NOT LEAD YOU TO REJECT THE OFFERED OLIVE BRANCH I CANNOT BE OTHERWISE THAN CONCERNED AT BEING THE MEAN SOFINJURING YOUR AMIABLE DAUGHTERS AND BEGLEAVE TO APOLOGISE FOR IT AS WELL AS TO ASSURE YOU OF MY READINESS TO MAKE THEM EVERY POSSIBLE AMENDS BUT OF THIS HERE AFTER IF YOU SHOULD HAVE NO OBJECTION TO RECEIVEMEIN TO YOUR HOUSE IPROPOSE MYSELF THE SATISFACTION OF WAITING ON YOU AND YOUR FAMILY MONDAY NOVEMBERTH BY FOUR OCLOCK AND SHALL PROBABLY TRESPASS ON YOUR HOSPITALITY TILL THE SATURDAY SEEN NIGHT FOLLOWING WHICH I CAN DO WITHOUT ANY INCONVENIENCE AS LADY CATHERINE IS FAR FROM OBJECTING TO MY OCCASIONAL ABSENCE ON A SUNDAY PROVIDED THAT SOME OTHER CLERGY MAN IS ENGAGED TO DO THE DUTY OF THE DAY I REMAINDEAR SIR WITH RESPECTFUL COMPLIMENTS TO YOUR LADY AND DAUGHTERS YOUR WELL WISHER AND FRIEND\"\n",
    "\n",
    "# Pride and Prejudice Quote\n",
    "\n",
    "text2 = \"ANDSOGADSBYSATONHISBLOSSOMBOUNDPORCHONAMILDSPRINGMORNINGTHINGINGANDSMOGINGSMOGINGCANCALMAMANDOWNANDHISTHOUGHTSHADSOLONGANDSOCONSTANTLYCLUNGTOTHISPLANOFHISTHATACOOLOUTLOOGASTOITSPROMULGATIONWASNOTONLYIMPORTANTBUTPARAMOUNTSOASHISCIGARWASWHIRLINGANDPUFFINGRINGSALOFTANDASGROUPSOFBRIGHTHAPPYBOYSANDGIRLSTRODPASTTOSCHOOLHISPLANRAPIDLYTOOGFORMASFOLLOWSYOUTHWHATISITSIMPLYASTARTASTARTOFWHATWHYOFTHATMOSTASTOUNDINGOFALLHUMANFUNCTIONSTHOUGHTBUTMANDIDNTSTARTHISBRAINWORGINGNOALLTHATANADULTCANCLAIMISACONTINUATIONORANAMPLIFICATIONOFTHOUGHTSDORMANTINHISYOUTH\"\n",
    "\n",
    "# Gadsby by Ernest Vincent Wright"
   ]
  },
  {
   "cell_type": "code",
   "execution_count": 93,
   "metadata": {},
   "outputs": [],
   "source": [
    "# attempt = text2.replace(\"m\", \"\\033[31mT\\033[0m\")\n",
    "# attempt = attempt.replace(\"a\", \"\\033[31mH\\033[0m\")\n",
    "# attempt = attempt.replace(\"h\", \"\\033[31mO\\033[0m\")\n",
    "# attempt = attempt.replace(\"n\", \"\\033[31mU\\033[0m\")\n",
    "# attempt = attempt.replace(\"z\", \"\\033[31mG\\033[0m\")\n",
    "# attempt = attempt.replace(\"r\", \"\\033[31mY\\033[0m\")\n",
    "# attempt = attempt.replace(\"t\", \"\\033[31mA\\033[0m\")\n",
    "# attempt = attempt.replace(\"g\", \"\\033[31mN\\033[0m\")\n",
    "# attempt = attempt.replace(\"w\", \"\\033[31mD\\033[0m\")\n",
    "# attempt = attempt.replace(\"l\", \"\\033[31mS\\033[0m\")\n",
    "# attempt = attempt.replace(\"u\", \"\\033[31mB\\033[0m\")\n",
    "# attempt = attempt.replace(\"b\", \"\\033[31mI\\033[0m\")\n",
    "# attempt = attempt.replace(\"e\", \"\\033[31mL\\033[0m\")\n",
    "# attempt = attempt.replace(\"f\", \"\\033[31mM\\033[0m\")\n",
    "# attempt = attempt.replace(\"v\", \"\\033[31mC\\033[0m\")\n",
    "# attempt = attempt.replace(\"k\", \"\\033[31mR\\033[0m\")\n",
    "# attempt = attempt.replace(\"i\", \"\\033[31mP\\033[0m\")\n",
    "# attempt = attempt.replace(\"p\", \"\\033[31mW\\033[0m\")\n",
    "# attempt = attempt.replace(\"d\", \"\\033[31mG\\033[0m\")\n",
    "# attempt = attempt.replace(\"y\", \"\\033[31mF\\033[0m\")\n",
    "\n",
    "\n",
    "# print(attempt)"
   ]
  },
  {
   "cell_type": "code",
   "execution_count": 129,
   "metadata": {},
   "outputs": [
    {
     "name": "stdout",
     "output_type": "stream",
     "text": [
      "0.06379965806737056\n"
     ]
    }
   ],
   "source": [
    "frequency = {}  #creates a dictionary where key: letters, value: how many times a letter occurs in the given text\n",
    "def countLetters(text):\n",
    "    letter_list = list(text) # creates a new array for every char in the text\n",
    "    for letter in letter_list:\n",
    "        if letter in frequency:\n",
    "            frequency[letter] += 1\n",
    "        else:\n",
    "            frequency[letter] = 1 #runs if the letter occurs just once\n",
    "    frequency_descending = sorted(frequency, key = frequency.get, reverse = True)\n",
    "    for letters, times in frequency.items():\n",
    "#         print(\"%s occurs %d\" %(letters,times) + \" times.\")\n",
    "#     print(\"\\nHere the letters are listed in descending order: \", frequency_descending)\n",
    "        return\n",
    "\n",
    "def calculateIOC(text): \n",
    "    countingLetters = countLetters(text)\n",
    "    res = 0\n",
    "    for letters, times in frequency.items():\n",
    "        res += times * (times -1)\n",
    "    res = res/(len(text)*(len(text) -1))\n",
    "    return res\n",
    "\n",
    "text2 = 'tgwlhztwlurltmhgabluehllhfuhngwihkvahgtfbewlikbgzfhkgbgzmabgdbgztgwlfhdbgzlfhdbgzvtgvteftftgwhpgtgwablmahnzamlatwlhehgztgwlhvhglmtgmervengzmhmablietghyablmatmtvhhehnmehhdtlmhbmlikhfneztmbhgptlghmhgerbfihkmtgmunmitktfhngmlhtlablvbztkptlpabkebgztgwinyybgzkbgzltehymtgwtlzkhnilhyukbzamatiiruhrltgwzbkelmkhwitlmmhlvahheablietgktibwermhhdyhkftlyheehplrhnmapatmblbmlbfiertlmtkmtlmtkmhypatmparhymatmfhlmtlmhngwbgzhyteeanftgyngvmbhglmahnzamunmftgwbwgmlmtkmabluktbgphkdbgzghteematmtgtwnemvtgvetbfbltvhgmbgntmbhghktgtfiebybvtmbhghymahnzamlwhkftgmbgablrhnma'\n",
    "result = calculateIOC(text1)\n",
    "print(result)"
   ]
  },
  {
   "cell_type": "code",
   "execution_count": null,
   "metadata": {},
   "outputs": [],
   "source": []
  }
 ],
 "metadata": {
  "kernelspec": {
   "display_name": "Python 3",
   "language": "python",
   "name": "python3"
  },
  "language_info": {
   "codemirror_mode": {
    "name": "ipython",
    "version": 3
   },
   "file_extension": ".py",
   "mimetype": "text/x-python",
   "name": "python",
   "nbconvert_exporter": "python",
   "pygments_lexer": "ipython3",
   "version": "3.8.8"
  }
 },
 "nbformat": 4,
 "nbformat_minor": 2
}
