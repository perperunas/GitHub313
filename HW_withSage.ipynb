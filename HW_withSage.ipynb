{
 "cells": [
  {
   "cell_type": "code",
   "execution_count": 2,
   "id": "a310159f",
   "metadata": {},
   "outputs": [
    {
     "data": {
      "text/plain": [
       "34"
      ]
     },
     "execution_count": 2,
     "metadata": {},
     "output_type": "execute_result"
    }
   ],
   "source": [
    "plain = 'imself from london for many years '\n",
    "len(plain)"
   ]
  },
  {
   "cell_type": "code",
   "execution_count": 3,
   "id": "7341ae8c",
   "metadata": {},
   "outputs": [
    {
     "data": {
      "text/plain": [
       "36"
      ]
     },
     "execution_count": 3,
     "metadata": {},
     "output_type": "execute_result"
    }
   ],
   "source": [
    "encrypted = \"aqyebvadhabnxypjwekeaqrxxzayzrmtxggy\"\n",
    "len(encrypted)"
   ]
  },
  {
   "cell_type": "code",
   "execution_count": 5,
   "id": "428324eb",
   "metadata": {},
   "outputs": [
    {
     "data": {
      "text/plain": [
       "27"
      ]
     },
     "execution_count": 5,
     "metadata": {},
     "output_type": "execute_result"
    }
   ],
   "source": [
    "Alphabet = ['a','b','c','d','e',\\\n",
    "              'f','g','h','i','j',\\\n",
    "              'k','l','m','n','o',\\\n",
    "              'p','q','r','s','t',\\\n",
    "              'u','v','w','x','y',\\\n",
    "              'z',' ']\n",
    "\n",
    "len(Alphabet)"
   ]
  },
  {
   "cell_type": "code",
   "execution_count": 14,
   "id": "0a8f5601",
   "metadata": {},
   "outputs": [
    {
     "name": "stdout",
     "output_type": "stream",
     "text": [
      "[8, 12, 18, 4, 11, 5, 26, 5, 17, 14, 12, 26, 11, 14, 13, 3, 14, 13, 26, 5, 14, 17, 26, 12, 0, 13, 24, 26, 24, 4, 0, 17, 18, 26]\n"
     ]
    },
    {
     "data": {
      "text/plain": [
       "34"
      ]
     },
     "execution_count": 14,
     "metadata": {},
     "output_type": "execute_result"
    }
   ],
   "source": [
    "letterToNumber_p = []\n",
    "for character in plain:\n",
    "    number = Alphabet.index(character)\n",
    "    letterToNumber_p.append(number)\n",
    "print(letterToNumber_p)\n",
    "\n",
    "len(letterToNumber_p)"
   ]
  },
  {
   "cell_type": "code",
   "execution_count": 15,
   "id": "a875c654",
   "metadata": {},
   "outputs": [
    {
     "name": "stdout",
     "output_type": "stream",
     "text": [
      "[0, 16, 24, 4, 1, 21, 0, 3, 7, 0, 1, 13, 23, 24, 15, 9, 22, 4, 10, 4, 0, 16, 17, 23, 23, 25, 0, 24, 25, 17, 12, 19, 23, 6, 6, 24]\n"
     ]
    },
    {
     "data": {
      "text/plain": [
       "36"
      ]
     },
     "execution_count": 15,
     "metadata": {},
     "output_type": "execute_result"
    }
   ],
   "source": [
    "letterToNumber_e = []\n",
    "for character in encrypted:\n",
    "    number = Alphabet.index(character)\n",
    "    letterToNumber_e.append(number)\n",
    "print(letterToNumber_e)\n",
    "\n",
    "len(letterToNumber_e)"
   ]
  },
  {
   "cell_type": "code",
   "execution_count": 17,
   "id": "c70fdfdf",
   "metadata": {},
   "outputs": [
    {
     "name": "stdout",
     "output_type": "stream",
     "text": [
      "[8, 12, 18, 4, 11, 5]\n",
      "[26, 5, 17, 14, 12, 26]\n",
      "[11, 14, 13, 3, 14, 13]\n",
      "[26, 5, 14, 17, 26, 12]\n",
      "[0, 13, 24, 26, 24, 4]\n",
      "[0, 17, 18, 26]\n"
     ]
    }
   ],
   "source": [
    "start = 0\n",
    "end = len(letterToNumber_p)\n",
    "chunk_size = 6\n",
    "for i in range(start, end, chunk_size):\n",
    "    x = i\n",
    "    print(letterToNumber_p[x:x+chunk_size])"
   ]
  },
  {
   "cell_type": "code",
   "execution_count": 26,
   "id": "f413094f",
   "metadata": {},
   "outputs": [
    {
     "data": {
      "text/plain": [
       "[ 8 12]\n",
       "[18  4]\n",
       "[11  5]"
      ]
     },
     "execution_count": 26,
     "metadata": {},
     "output_type": "execute_result"
    }
   ],
   "source": [
    "A = matrix([[8,12],[18,4],[11,5]])\n",
    "A"
   ]
  },
  {
   "cell_type": "code",
   "execution_count": 32,
   "id": "ea2499f8",
   "metadata": {},
   "outputs": [
    {
     "data": {
      "text/plain": [
       "[1 0 0]\n",
       "[0 1 0]"
      ]
     },
     "execution_count": 32,
     "metadata": {},
     "output_type": "execute_result"
    }
   ],
   "source": [
    "B = matrix(2,3,[1,0,0,0,1,0])\n",
    "B"
   ]
  },
  {
   "cell_type": "code",
   "execution_count": 33,
   "id": "28fa08d2",
   "metadata": {
    "scrolled": true
   },
   "outputs": [
    {
     "data": {
      "text/plain": [
       "[ 8 12  0]\n",
       "[18  4  0]\n",
       "[11  5  0]"
      ]
     },
     "execution_count": 33,
     "metadata": {},
     "output_type": "execute_result"
    }
   ],
   "source": [
    "mm = A*B\n",
    "mm"
   ]
  },
  {
   "cell_type": "code",
   "execution_count": 35,
   "id": "286c99e5",
   "metadata": {},
   "outputs": [
    {
     "data": {
      "text/plain": [
       "(1, 2, 3, 3, 4, 5, 0, pi, 1)"
      ]
     },
     "execution_count": 35,
     "metadata": {},
     "output_type": "execute_result"
    }
   ],
   "source": [
    "key = vector([1,2,3, 3,4,5,0,pi,1])\n",
    "key"
   ]
  },
  {
   "cell_type": "code",
   "execution_count": 34,
   "id": "cf9b2813",
   "metadata": {
    "scrolled": true
   },
   "outputs": [
    {
     "data": {
      "text/plain": [
       "[ 1]\n",
       "[ 2]\n",
       "[ 3]\n",
       "[ 3]\n",
       "[ 4]\n",
       "[ 5]\n",
       "[ 0]\n",
       "[pi]\n",
       "[ 1]"
      ]
     },
     "execution_count": 34,
     "metadata": {},
     "output_type": "execute_result"
    }
   ],
   "source": [
    "key_c = vector(key).column()\n",
    "key_c"
   ]
  },
  {
   "cell_type": "code",
   "execution_count": 36,
   "id": "0da83fca",
   "metadata": {},
   "outputs": [
    {
     "data": {
      "text/plain": [
       "[ 8 12]\n",
       "[18  4]\n",
       "[11  5]"
      ]
     },
     "execution_count": 36,
     "metadata": {},
     "output_type": "execute_result"
    }
   ],
   "source": [
    "matrix(3,2,[8,12,18,4,11,5]) # first parameter stands for the number of rows, the second one is for #column"
   ]
  },
  {
   "cell_type": "markdown",
   "id": "5ecd7a9d",
   "metadata": {},
   "source": [
    "## Field (Z,Q,R,C)"
   ]
  },
  {
   "cell_type": "code",
   "execution_count": 19,
   "id": "283fc384",
   "metadata": {},
   "outputs": [
    {
     "data": {
      "text/plain": [
       "[ -22.0000000000000   8.00000000000000]\n",
       "[  3.14159265358979 -0.598460069057858]"
      ]
     },
     "execution_count": 19,
     "metadata": {},
     "output_type": "execute_result"
    }
   ],
   "source": [
    "matrix(ZZ, 2,2, [-22,8,9,9])"
   ]
  },
  {
   "cell_type": "code",
   "execution_count": 21,
   "id": "65199470",
   "metadata": {},
   "outputs": [
    {
     "data": {
      "text/plain": [
       "[ 22.0000000000000  8.00000000000000]\n",
       "[0.111111111111111 0.888888888888889]"
      ]
     },
     "execution_count": 21,
     "metadata": {},
     "output_type": "execute_result"
    }
   ],
   "source": [
    "matrix(RR, 2,2, [22,8,1/9,8/9])"
   ]
  },
  {
   "cell_type": "code",
   "execution_count": 22,
   "id": "73319f7c",
   "metadata": {},
   "outputs": [
    {
     "data": {
      "text/plain": [
       "[ 22 1/8]\n",
       "[  9   9]"
      ]
     },
     "execution_count": 22,
     "metadata": {},
     "output_type": "execute_result"
    }
   ],
   "source": [
    "matrix(QQ, 2,2, [22,1/8,9,9])"
   ]
  },
  {
   "cell_type": "code",
   "execution_count": 20,
   "id": "b6f6f0ad",
   "metadata": {},
   "outputs": [
    {
     "data": {
      "text/plain": [
       "[ -22.0000000000000   8.00000000000000]\n",
       "[  3.14159265358979 -0.598460069057858]"
      ]
     },
     "execution_count": 20,
     "metadata": {},
     "output_type": "execute_result"
    }
   ],
   "source": [
    "matrix(CC, 2,2, [-22,8,pi,(cos(180))])"
   ]
  }
 ],
 "metadata": {
  "kernelspec": {
   "display_name": "SageMath 9.7",
   "language": "sage",
   "name": "sagemath-9.7"
  },
  "language_info": {
   "codemirror_mode": {
    "name": "ipython",
    "version": 3
   },
   "file_extension": ".py",
   "mimetype": "text/x-python",
   "name": "python",
   "nbconvert_exporter": "python",
   "pygments_lexer": "ipython3",
   "version": "3.10.5"
  }
 },
 "nbformat": 4,
 "nbformat_minor": 5
}
